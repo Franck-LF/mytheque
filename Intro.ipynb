{
 "cells": [
  {
   "cell_type": "markdown",
   "id": "eacc777e",
   "metadata": {},
   "source": [
    "# <center>Mytheque"
   ]
  },
  {
   "cell_type": "markdown",
   "id": "6c9a0bc9",
   "metadata": {},
   "source": [
    "## Sources"
   ]
  },
  {
   "cell_type": "markdown",
   "id": "6427a9fb",
   "metadata": {},
   "source": [
    "## Imports"
   ]
  },
  {
   "cell_type": "code",
   "execution_count": 6,
   "id": "8145f7d9",
   "metadata": {},
   "outputs": [],
   "source": [
    "%reset"
   ]
  },
  {
   "cell_type": "code",
   "execution_count": 1,
   "id": "f289ed3c",
   "metadata": {},
   "outputs": [],
   "source": [
    "from os import listdir\n",
    "from os.path import isdir, isfile\n",
    "\n",
    "import numpy as np\n",
    "import pandas as pd\n",
    "\n",
    "import matplotlib.pyplot as plt\n",
    "import pymupdf"
   ]
  },
  {
   "cell_type": "markdown",
   "id": "adb0e458",
   "metadata": {},
   "source": [
    "## Read the data - Text Extraction"
   ]
  },
  {
   "cell_type": "code",
   "execution_count": 2,
   "id": "40ead1d2",
   "metadata": {},
   "outputs": [
    {
     "name": "stdout",
     "output_type": "stream",
     "text": [
      "MYTHS/Algebre/Arithmétique des Algèbres de Quaternions.pdf\n",
      "MYTHS/Algebre/Artin - Algèbre géométrique.pdf\n",
      "MYTHS/Algebre/Aulia Delcourt Goblot - MATHÉMATIQUES Algèbre et géométrie.pdf\n",
      "MYTHS/Algebre/Auliac Delcourt Goblot - Mathématiques _ Algèbre et géométrie 50% cours + 50% exos (2005, Dunod).pdf\n",
      "MYTHS/Algebre/Blanchard - Les corps non commutatifs PUF.pdf\n",
      "MYTHS/Algebre/Boyer Risler - Algebre L3.pdf\n",
      "MYTHS/Algebre/Carrega - Algèbre et topologie booléennes.pdf\n",
      "MYTHS/Algebre/Claude Godbillon - Elements de topologie algebrique.pdf\n",
      "MYTHS/Algebre/D. Foata - Combinatoire et Representation du Groupe Symetrique.pdf\n",
      "MYTHS/Algebre/Daniel Tanré, Yves Félix - Topologie algébrique.pdf\n",
      "MYTHS/Algebre/Delcourt Goblot - Algèbre et géométrie 50% cours + 50% exos.pdf\n",
      "MYTHS/Algebre/Demazure - Cours d'Algebre.pdf\n",
      "MYTHS/Algebre/Demazure - Groupes algebriques.pdf\n",
      "MYTHS/Algebre/Dominique Flament - Histoire des nombres complexes, entre algèbre et géométrie.pdf\n",
      "MYTHS/Algebre/Dominique Foata - Combinatoire et Représentation du Groupe Symétrique.pdf\n",
      "MYTHS/Algebre/Escofier - Toute l'algebre de la licence Cours et exercices corriges.pdf\n",
      "MYTHS/Algebre/Escofier toute l'algebre de la licence cours et exercices corr. 2e ed.pdf\n",
      "MYTHS/Algebre/Ferrier Seminaire_sur_les_algebres_completes.pdf\n",
      "MYTHS/Algebre/Fourneau - Etude Géometrique des Espaces Vectoriels II Polyèdres et Polytopes Convexes.pdf\n",
      "MYTHS/Algebre/Guin Hausberger - Algèbre Tome 1 - Groupes, corps et théorie de Galois - EDP Sciences.pdf\n",
      "MYTHS/Algebre/Guivarc'h Marche aleatoire sur les gpes de Lie.pdf\n",
      "MYTHS/Algebre/Hausberger - Algèbre 1 groupes, corps et théorie de Galois.pdf\n",
      "MYTHS/Algebre/Hausberger - Algèbre 2 Anneaux, modules et algèbre multilinéaire.pdf\n",
      "MYTHS/Algebre/Histoires hédonistes de groupes et de géométries, Tome 1 - Calvage & Mounet, 2013 - Philippe Caldero, Jérôme Germoni.pdf\n",
      "MYTHS/Algebre/Histoires hédonistes de groupes et de géométries, Tome 2 - Calvage & Mounet, 2015 - Philippe Caldero, Jérôme Germoni.pdf\n",
      "MYTHS/Algebre/Introduction a la theorie des groupes de Lie classiques - Mneimné Testard.pdf\n",
      "MYTHS/Algebre/J.P. Serre - Algèbre locale, multiplicités.pdf\n",
      "MYTHS/Algebre/Lipschitz - Algebre lineaire.pdf\n",
      "MYTHS/Algebre/Malliavin Warusfel - Algèbre linéaire et géométrie classique.pdf\n",
      "MYTHS/Algebre/Mneimne Testard - Introduction a la theorie des groupes de Lie classiques.pdf\n",
      "MYTHS/Algebre/Modules, théorie, pratique... Et un peu d'arithmétique! - Calvare et Mounet, 2012 - Grégory Berhuy.pdf\n",
      "MYTHS/Algebre/Perrin - Cours d'algèbre.pdf\n",
      "MYTHS/Algebre/Querre - Cours d'algebre Maitrise-Masson (1976).pdf\n",
      "MYTHS/Algebre/Querre - Cours d'algebre.pdf\n",
      "MYTHS/Algebre/Ragot Sur_la_factorisation_absolue_des_polynomes.pdf\n",
      "MYTHS/Algebre/Raynaud Faisceaux_Amples_Sur_les_Schemas_en_Groupes_et_les_espaces_homogenes.pdf\n",
      "MYTHS/Algebre/Tauvel - Algebre Agregation, Licence 3e annee, Master.pdf\n",
      "MYTHS/Algebre/Tauvel - Corps communicatifs et theorie de Galois.pdf\n",
      "MYTHS/Algebre/tenseur.pdf\n",
      "MYTHS/Algebre/Theorie_des_corps-La_regle_et_le_compas.pdf\n",
      "MYTHS/Algebre/Verdier Modules_des_fibres_stables_sur.pdf\n",
      "MYTHS/Algebre/Vigneras - Arithmétique des Algèbres de Quaternions.pdf\n",
      "MYTHS/Algebre/Yves Felix Daniel Tanre - Topologie algebrique cours et exercices corriges.pdf\n",
      "MYTHS/Algebre/Éléments de géométrie. Actions de groupes - Mneimné.pdf\n",
      "MYTHS/Analyse/275 exercices et problemes d'analyse superieure.pdf\n",
      "MYTHS/Analyse/Berhuy - Suites et séries de fonctions.pdf\n",
      "MYTHS/Analyse/Cerf Sur_les_diffeomorphismes_de_la_sphere_de_dimension_3.pdf\n",
      "MYTHS/Analyse/Escofier - Analyses factorielles simples et multiples.pdf\n",
      "MYTHS/Analyse/Fukaya Categories and Picard-Lefschetz theory.pdf\n",
      "MYTHS/Geometrie/Fubini, Cech - Introduction a la geometrie projective differentielle des surfaces.pdf\n",
      "MYTHS/Geometrie/Jean-Claude Sidler - Géométrie projective.pdf\n",
      "MYTHS/Geometrie/Michele Audin - Geometrie.pdf\n",
      "MYTHS/Geometrie/Pierre Samuel-Géométrie projective-Presses Universitaires de France — PUF (1986).pdf\n",
      "MYTHS/Geometrie/Samuel - Géométrie projective.pdf\n",
      "MYTHS/Maths appliquees/Algorithmique ENS Lyon.pdf\n",
      "MYTHS/Maths appliquees/Analyse Et Traitement Des Signaux.pdf\n",
      "MYTHS/Maths appliquees/Gérard Neuberg - Mathématiques financières et actuarielles.pdf\n",
      "MYTHS/Maths appliquees/Introduction aux methodes numeriques.pdf\n",
      "MYTHS/Maths appliquees/Lois de Conservations Eulériennes, Lagrangiennes et Méthodes Num.pdf\n",
      "MYTHS/Maths appliquees/Optimisation combinatoire, Théorie et algorithmes.pdf\n",
      "MYTHS/Prepa/Anglais scientifique.pdf\n",
      "MYTHS/Prepa/Deschamps Warusfel - tout-en-un - 2e annee.pdf\n",
      "MYTHS/Prepa/El Haj Laamri - Tous Les Exercices d'Algèbre et de Géométrie PC-PSI.pdf\n",
      "MYTHS/Prepa/Mathématiques 1re année MPSI Tout en un.pdf\n",
      "MYTHS/Prepa/Pierron Theon MPSI.pdf\n",
      "MYTHS/Prepa/Tous les exos d'Algèbre et de Géométrie, MP.pdf\n",
      "counter: 66\n"
     ]
    }
   ],
   "source": [
    "path = \"MYTHS/\"\n",
    "document_paths = []\n",
    "titles = []\n",
    "documents = []\n",
    "counter = 0\n",
    "\n",
    "# ToDo Recursively\n",
    "for item in listdir(path):\n",
    "    if isdir(path + item):\n",
    "        for item_2 in listdir(path + item):\n",
    "            if isfile(path + item + '/' + item_2):\n",
    "                if not item_2[0] in '~.':\n",
    "                    counter += 1\n",
    "                    # continue\n",
    "                    print(path + item + '/' + item_2)\n",
    "                    txt = pymupdf.get_text(path + item + '/' + item_2)\n",
    "                    # print(txt)\n",
    "                    # print(type(txt))\n",
    "                    titles.append(item_2)\n",
    "                    documents.append(txt)\n",
    "    else:\n",
    "        pass\n",
    "\n",
    "print(\"counter:\", counter)"
   ]
  },
  {
   "cell_type": "code",
   "execution_count": 3,
   "id": "ea5aa83a",
   "metadata": {},
   "outputs": [
    {
     "data": {
      "text/html": [
       "<div>\n",
       "<style scoped>\n",
       "    .dataframe tbody tr th:only-of-type {\n",
       "        vertical-align: middle;\n",
       "    }\n",
       "\n",
       "    .dataframe tbody tr th {\n",
       "        vertical-align: top;\n",
       "    }\n",
       "\n",
       "    .dataframe thead th {\n",
       "        text-align: right;\n",
       "    }\n",
       "</style>\n",
       "<table border=\"1\" class=\"dataframe\">\n",
       "  <thead>\n",
       "    <tr style=\"text-align: right;\">\n",
       "      <th></th>\n",
       "      <th>title</th>\n",
       "      <th>document</th>\n",
       "    </tr>\n",
       "  </thead>\n",
       "  <tbody>\n",
       "    <tr>\n",
       "      <th>0</th>\n",
       "      <td>Arithmétique des Algèbres de Quaternions.pdf</td>\n",
       "      <td>[Lecture Notes in \\nMathematics \\nEdited by A....</td>\n",
       "    </tr>\n",
       "    <tr>\n",
       "      <th>1</th>\n",
       "      <td>Artin - Algèbre géométrique.pdf</td>\n",
       "      <td>[, , , , , , , , , , , , , , , , , , , , , , ,...</td>\n",
       "    </tr>\n",
       "    <tr>\n",
       "      <th>2</th>\n",
       "      <td>Aulia Delcourt Goblot - MATHÉMATIQUES Algèbre ...</td>\n",
       "      <td>[MATHÉMATIQUES\\nAlgèbre et géométrie\\nSous la ...</td>\n",
       "    </tr>\n",
       "    <tr>\n",
       "      <th>3</th>\n",
       "      <td>Auliac Delcourt Goblot - Mathématiques _ Algèb...</td>\n",
       "      <td>[MATHÉMATIQUES\\nAlgèbre et géométrie\\nSous la ...</td>\n",
       "    </tr>\n",
       "    <tr>\n",
       "      <th>4</th>\n",
       "      <td>Blanchard - Les corps non commutatifs PUF.pdf</td>\n",
       "      <td>[, , , , , , , , , , , , , , , , , , , , , , ,...</td>\n",
       "    </tr>\n",
       "    <tr>\n",
       "      <th>...</th>\n",
       "      <td>...</td>\n",
       "      <td>...</td>\n",
       "    </tr>\n",
       "    <tr>\n",
       "      <th>61</th>\n",
       "      <td>Deschamps Warusfel - tout-en-un - 2e annee.pdf</td>\n",
       "      <td>[, , , , , , , , , , , , , , , , , , , , , , ,...</td>\n",
       "    </tr>\n",
       "    <tr>\n",
       "      <th>62</th>\n",
       "      <td>El Haj Laamri - Tous Les Exercices d'Algèbre e...</td>\n",
       "      <td>[TOUS LES EXERCICES\\nD'ALGÈBRE ET DE GÉOMÉTRIE...</td>\n",
       "    </tr>\n",
       "    <tr>\n",
       "      <th>63</th>\n",
       "      <td>Mathématiques 1re année MPSI Tout en un.pdf</td>\n",
       "      <td>[H PRÉPA TOUT EN UN\\n1\\nANNÉE\\nRE\\n• Le cours ...</td>\n",
       "    </tr>\n",
       "    <tr>\n",
       "      <th>64</th>\n",
       "      <td>Pierron Theon MPSI.pdf</td>\n",
       "      <td>[Mathématiques MPSI\\nPierron Théo\\nENS Ker Lan...</td>\n",
       "    </tr>\n",
       "    <tr>\n",
       "      <th>65</th>\n",
       "      <td>Tous les exos d'Algèbre et de Géométrie, MP...</td>\n",
       "      <td>[TOUS LES EXERCICES\\nD'ALGÈBRE ET DE GÉOMÉTRIE...</td>\n",
       "    </tr>\n",
       "  </tbody>\n",
       "</table>\n",
       "<p>66 rows × 2 columns</p>\n",
       "</div>"
      ],
      "text/plain": [
       "                                                title  \\\n",
       "0        Arithmétique des Algèbres de Quaternions.pdf   \n",
       "1                     Artin - Algèbre géométrique.pdf   \n",
       "2   Aulia Delcourt Goblot - MATHÉMATIQUES Algèbre ...   \n",
       "3   Auliac Delcourt Goblot - Mathématiques _ Algèb...   \n",
       "4       Blanchard - Les corps non commutatifs PUF.pdf   \n",
       "..                                                ...   \n",
       "61     Deschamps Warusfel - tout-en-un - 2e annee.pdf   \n",
       "62  El Haj Laamri - Tous Les Exercices d'Algèbre e...   \n",
       "63      Mathématiques 1re année MPSI Tout en un.pdf   \n",
       "64                             Pierron Theon MPSI.pdf   \n",
       "65  Tous les exos d'Algèbre et de Géométrie, MP...   \n",
       "\n",
       "                                             document  \n",
       "0   [Lecture Notes in \\nMathematics \\nEdited by A....  \n",
       "1   [, , , , , , , , , , , , , , , , , , , , , , ,...  \n",
       "2   [MATHÉMATIQUES\\nAlgèbre et géométrie\\nSous la ...  \n",
       "3   [MATHÉMATIQUES\\nAlgèbre et géométrie\\nSous la ...  \n",
       "4   [, , , , , , , , , , , , , , , , , , , , , , ,...  \n",
       "..                                                ...  \n",
       "61  [, , , , , , , , , , , , , , , , , , , , , , ,...  \n",
       "62  [TOUS LES EXERCICES\\nD'ALGÈBRE ET DE GÉOMÉTRIE...  \n",
       "63  [H PRÉPA TOUT EN UN\\n1\\nANNÉE\\nRE\\n• Le cours ...  \n",
       "64  [Mathématiques MPSI\\nPierron Théo\\nENS Ker Lan...  \n",
       "65  [TOUS LES EXERCICES\\nD'ALGÈBRE ET DE GÉOMÉTRIE...  \n",
       "\n",
       "[66 rows x 2 columns]"
      ]
     },
     "execution_count": 3,
     "metadata": {},
     "output_type": "execute_result"
    }
   ],
   "source": [
    "df = pd.DataFrame({\"title\" : titles, \"document\" : documents})\n",
    "df"
   ]
  },
  {
   "cell_type": "markdown",
   "id": "8293e6a2",
   "metadata": {},
   "source": [
    "## Text Preprocessing (Tokenization - Lemmatization)"
   ]
  },
  {
   "cell_type": "code",
   "execution_count": 4,
   "id": "a2da9dba",
   "metadata": {},
   "outputs": [],
   "source": [
    "import spacy\n",
    "nlp = spacy.load(\"fr_core_news_sm\")"
   ]
  },
  {
   "cell_type": "code",
   "execution_count": null,
   "id": "a79c9626",
   "metadata": {},
   "outputs": [],
   "source": [
    "txt = df.loc[1, 'document']\n",
    "print(len(txt))\n",
    "txt"
   ]
  },
  {
   "cell_type": "markdown",
   "id": "259530c6",
   "metadata": {},
   "source": []
  }
 ],
 "metadata": {
  "kernelspec": {
   "display_name": "env_myth",
   "language": "python",
   "name": "python3"
  },
  "language_info": {
   "codemirror_mode": {
    "name": "ipython",
    "version": 3
   },
   "file_extension": ".py",
   "mimetype": "text/x-python",
   "name": "python",
   "nbconvert_exporter": "python",
   "pygments_lexer": "ipython3",
   "version": "3.12.3"
  }
 },
 "nbformat": 4,
 "nbformat_minor": 5
}
