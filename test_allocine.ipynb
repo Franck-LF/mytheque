{
 "cells": [
  {
   "cell_type": "markdown",
   "id": "af08f295",
   "metadata": {},
   "source": [
    "# <center> Test Allociné"
   ]
  },
  {
   "cell_type": "markdown",
   "id": "69b91b85",
   "metadata": {},
   "source": [
    "## Infos\n",
    "\n",
    "Pour la recherche de similarité, une similarité cosinus pour les vecteurs embedding, mais dans le cas de très gros volumes on peut faire un Knn approximatif.\n",
    "\n",
    "Voir aussi FAISS, Annoy, HNSW, ScaNN\n",
    "\n",
    "ANN: approximate nearest neighbour\n",
    "\n",
    "Explorer doc2vec\n"
   ]
  },
  {
   "cell_type": "markdown",
   "id": "3e03775d",
   "metadata": {},
   "source": [
    "## Imports"
   ]
  },
  {
   "cell_type": "code",
   "execution_count": 115,
   "id": "da97373e",
   "metadata": {},
   "outputs": [],
   "source": [
    "import numpy as np\n",
    "import pandas as pd\n",
    "\n",
    "import matplotlib.pyplot as plt\n",
    "\n",
    "import spacy\n",
    "from datasets import load_dataset\n",
    "\n",
    "import faiss\n",
    "#pip install faiss-cpu"
   ]
  },
  {
   "cell_type": "markdown",
   "id": "9ebe079f",
   "metadata": {},
   "source": [
    "## Get Data"
   ]
  },
  {
   "cell_type": "code",
   "execution_count": 3,
   "id": "f3b8aeab",
   "metadata": {},
   "outputs": [
    {
     "data": {
      "text/html": [
       "<div>\n",
       "<style scoped>\n",
       "    .dataframe tbody tr th:only-of-type {\n",
       "        vertical-align: middle;\n",
       "    }\n",
       "\n",
       "    .dataframe tbody tr th {\n",
       "        vertical-align: top;\n",
       "    }\n",
       "\n",
       "    .dataframe thead th {\n",
       "        text-align: right;\n",
       "    }\n",
       "</style>\n",
       "<table border=\"1\" class=\"dataframe\">\n",
       "  <thead>\n",
       "    <tr style=\"text-align: right;\">\n",
       "      <th></th>\n",
       "      <th>review</th>\n",
       "    </tr>\n",
       "  </thead>\n",
       "  <tbody>\n",
       "    <tr>\n",
       "      <th>0</th>\n",
       "      <td>Si vous cherchez du cinéma abrutissant à tous ...</td>\n",
       "    </tr>\n",
       "    <tr>\n",
       "      <th>1</th>\n",
       "      <td>Trash, re-trash et re-re-trash...! Une horreur...</td>\n",
       "    </tr>\n",
       "    <tr>\n",
       "      <th>2</th>\n",
       "      <td>Et si, dans les 5 premières minutes du film, l...</td>\n",
       "    </tr>\n",
       "    <tr>\n",
       "      <th>3</th>\n",
       "      <td>Mon dieu ! Quelle métaphore filée ! Je suis ab...</td>\n",
       "    </tr>\n",
       "    <tr>\n",
       "      <th>4</th>\n",
       "      <td>Premier film de la saga Kozure Okami, \"Le Sabr...</td>\n",
       "    </tr>\n",
       "    <tr>\n",
       "      <th>...</th>\n",
       "      <td>...</td>\n",
       "    </tr>\n",
       "    <tr>\n",
       "      <th>95</th>\n",
       "      <td>Sans doute le pire film que j'ai vu, le ridicu...</td>\n",
       "    </tr>\n",
       "    <tr>\n",
       "      <th>96</th>\n",
       "      <td>typique des années 90, un peu daté mais pas ma...</td>\n",
       "    </tr>\n",
       "    <tr>\n",
       "      <th>97</th>\n",
       "      <td>Une réalisation pauvre du coup je mettais tous...</td>\n",
       "    </tr>\n",
       "    <tr>\n",
       "      <th>98</th>\n",
       "      <td>Ce navet est affligeant tellement il est mauva...</td>\n",
       "    </tr>\n",
       "    <tr>\n",
       "      <th>99</th>\n",
       "      <td>Premièrement je souhaiterai demander à allo ci...</td>\n",
       "    </tr>\n",
       "  </tbody>\n",
       "</table>\n",
       "<p>100 rows × 1 columns</p>\n",
       "</div>"
      ],
      "text/plain": [
       "                                               review\n",
       "0   Si vous cherchez du cinéma abrutissant à tous ...\n",
       "1   Trash, re-trash et re-re-trash...! Une horreur...\n",
       "2   Et si, dans les 5 premières minutes du film, l...\n",
       "3   Mon dieu ! Quelle métaphore filée ! Je suis ab...\n",
       "4   Premier film de la saga Kozure Okami, \"Le Sabr...\n",
       "..                                                ...\n",
       "95  Sans doute le pire film que j'ai vu, le ridicu...\n",
       "96  typique des années 90, un peu daté mais pas ma...\n",
       "97  Une réalisation pauvre du coup je mettais tous...\n",
       "98  Ce navet est affligeant tellement il est mauva...\n",
       "99  Premièrement je souhaiterai demander à allo ci...\n",
       "\n",
       "[100 rows x 1 columns]"
      ]
     },
     "execution_count": 3,
     "metadata": {},
     "output_type": "execute_result"
    }
   ],
   "source": [
    "nlp = spacy.load(\"fr_core_news_sm\")\n",
    "\n",
    "train_dataset = load_dataset(\"tblard/allocine\", split=\"train\")\n",
    "df = pd.DataFrame(train_dataset['review'][:100], columns = ['review'])\n",
    "df"
   ]
  },
  {
   "cell_type": "markdown",
   "id": "44e6adc4",
   "metadata": {},
   "source": [
    "## Tokenisation - lemmatisation"
   ]
  },
  {
   "cell_type": "code",
   "execution_count": 4,
   "id": "6a704fa4",
   "metadata": {},
   "outputs": [
    {
     "name": "stdout",
     "output_type": "stream",
     "text": [
      "Nb reviews: 160000\n",
      "Si vous cherchez du cinéma abrutissant à tous les étages,n'ayant aucune peur du cliché en castagnettes et moralement douteux,\"From Paris with love\" est fait pour vous.Toutes les productions Besson,via sa filière EuropaCorp ont de quoi faire naître la moquerie.Paris y est encore une fois montrée comme une capitale exotique,mais attention si l'on se dirige vers la banlieue,on y trouve tout plein d'intégristes musulmans prêts à faire sauter le caisson d'une ambassadrice américaine.Nauséeux.Alors on se dit qu'on va au moins pouvoir apprécier la déconnade d'un classique buddy-movie avec le jeune agent aux dents longues obligé de faire équipe avec un vieux lou complètement timbré.Mais d'un côté,on a un Jonathan Rhys-meyers fayot au possible,et de l'autre un John Travolta en total délire narcissico-badass,crâne rasé et bouc proéminent à l'appui.Sinon,il n'y a aucun scénario.Seulement,des poursuites débiles sur l'autoroute,Travolta qui étale 10 mecs à l'arme blanche en 8 mouvements(!!)ou laisse son associé se faire démolir la tronche pendant qu'il scrute à la jumelle.Ca pourrait être un plaisir coupable,tellement c'est \"hénaurme\",c'est juste de la daube dans la droite lignée d'un \"Transporteur\",\"Taken\"ou \"Banlieue 13\".\n"
     ]
    }
   ],
   "source": [
    "print(\"Nb reviews:\", len(train_dataset['review']))\n",
    "print(train_dataset[0]['review'])"
   ]
  },
  {
   "cell_type": "code",
   "execution_count": 7,
   "id": "b9358594",
   "metadata": {},
   "outputs": [
    {
     "data": {
      "text/html": [
       "<div>\n",
       "<style scoped>\n",
       "    .dataframe tbody tr th:only-of-type {\n",
       "        vertical-align: middle;\n",
       "    }\n",
       "\n",
       "    .dataframe tbody tr th {\n",
       "        vertical-align: top;\n",
       "    }\n",
       "\n",
       "    .dataframe thead th {\n",
       "        text-align: right;\n",
       "    }\n",
       "</style>\n",
       "<table border=\"1\" class=\"dataframe\">\n",
       "  <thead>\n",
       "    <tr style=\"text-align: right;\">\n",
       "      <th></th>\n",
       "      <th>review</th>\n",
       "      <th>token</th>\n",
       "      <th>lemma</th>\n",
       "      <th>review_lemma</th>\n",
       "    </tr>\n",
       "  </thead>\n",
       "  <tbody>\n",
       "    <tr>\n",
       "      <th>0</th>\n",
       "      <td>Si vous cherchez du cinéma abrutissant à tous ...</td>\n",
       "      <td>(Si, vous, cherchez, du, cinéma, abrutissant, ...</td>\n",
       "      <td>[chercher, cinéma, abrutissant, étage, aucun, ...</td>\n",
       "      <td>chercher cinéma abrutissant étage aucun peur c...</td>\n",
       "    </tr>\n",
       "    <tr>\n",
       "      <th>1</th>\n",
       "      <td>Trash, re-trash et re-re-trash...! Une horreur...</td>\n",
       "      <td>(Trash, ,, re-trash, et, re-re-trash, ..., !, ...</td>\n",
       "      <td>[trash, re-trash, re-re-trash, horreur, nom, i...</td>\n",
       "      <td>trash re-trash re-re-trash horreur nom imagine...</td>\n",
       "    </tr>\n",
       "    <tr>\n",
       "      <th>2</th>\n",
       "      <td>Et si, dans les 5 premières minutes du film, l...</td>\n",
       "      <td>(Et, si, ,, dans, les, 5, premières, minutes, ...</td>\n",
       "      <td>[5, premier, minute, film, pathétique, maquett...</td>\n",
       "      <td>5 premier minute film pathétique maquette trai...</td>\n",
       "    </tr>\n",
       "    <tr>\n",
       "      <th>3</th>\n",
       "      <td>Mon dieu ! Quelle métaphore filée ! Je suis ab...</td>\n",
       "      <td>(Mon, dieu, !, Quelle, métaphore, filée, !, Je...</td>\n",
       "      <td>[dieu, métaphore, filée, abasourdi, réellement...</td>\n",
       "      <td>dieu métaphore filée abasourdi réellement ici ...</td>\n",
       "    </tr>\n",
       "    <tr>\n",
       "      <th>4</th>\n",
       "      <td>Premier film de la saga Kozure Okami, \"Le Sabr...</td>\n",
       "      <td>(Premier, film, de, la, saga, Kozure, Okami, ,...</td>\n",
       "      <td>[film, saga, Kozure, Okami, sabre, vengeance, ...</td>\n",
       "      <td>film saga Kozure Okami sabre vengeance bon fil...</td>\n",
       "    </tr>\n",
       "    <tr>\n",
       "      <th>...</th>\n",
       "      <td>...</td>\n",
       "      <td>...</td>\n",
       "      <td>...</td>\n",
       "      <td>...</td>\n",
       "    </tr>\n",
       "    <tr>\n",
       "      <th>95</th>\n",
       "      <td>Sans doute le pire film que j'ai vu, le ridicu...</td>\n",
       "      <td>(Sans, doute, le, pire, film, que, j', ai, vu,...</td>\n",
       "      <td>[doute, pire, film, ridicule, atteindre, somme...</td>\n",
       "      <td>doute pire film ridicule atteindre sommet ici ...</td>\n",
       "    </tr>\n",
       "    <tr>\n",
       "      <th>96</th>\n",
       "      <td>typique des années 90, un peu daté mais pas ma...</td>\n",
       "      <td>(typique, des, années, 90, ,, un, peu, daté, m...</td>\n",
       "      <td>[typique, année, 90, dater, mal, suspense, bie...</td>\n",
       "      <td>typique année 90 dater mal suspense bien jouer...</td>\n",
       "    </tr>\n",
       "    <tr>\n",
       "      <th>97</th>\n",
       "      <td>Une réalisation pauvre du coup je mettais tous...</td>\n",
       "      <td>(Une, réalisation, pauvre, du, coup, je, metta...</td>\n",
       "      <td>[réalisation, pauvre, coup, mettre, espoir, in...</td>\n",
       "      <td>réalisation pauvre coup mettre espoir interpré...</td>\n",
       "    </tr>\n",
       "    <tr>\n",
       "      <th>98</th>\n",
       "      <td>Ce navet est affligeant tellement il est mauva...</td>\n",
       "      <td>(Ce, navet, est, affligeant, tellement, il, es...</td>\n",
       "      <td>[navet, affliger, mauver, scène, filmer, corre...</td>\n",
       "      <td>navet affliger mauver scène filmer correctemen...</td>\n",
       "    </tr>\n",
       "    <tr>\n",
       "      <th>99</th>\n",
       "      <td>Premièrement je souhaiterai demander à allo ci...</td>\n",
       "      <td>(Premièrement, je, souhaiterai, demander, à, a...</td>\n",
       "      <td>[souhaiter, demander, allo, ciné, pouvoir, met...</td>\n",
       "      <td>souhaiter demander allo ciné pouvoir mettre no...</td>\n",
       "    </tr>\n",
       "  </tbody>\n",
       "</table>\n",
       "<p>100 rows × 4 columns</p>\n",
       "</div>"
      ],
      "text/plain": [
       "                                               review  \\\n",
       "0   Si vous cherchez du cinéma abrutissant à tous ...   \n",
       "1   Trash, re-trash et re-re-trash...! Une horreur...   \n",
       "2   Et si, dans les 5 premières minutes du film, l...   \n",
       "3   Mon dieu ! Quelle métaphore filée ! Je suis ab...   \n",
       "4   Premier film de la saga Kozure Okami, \"Le Sabr...   \n",
       "..                                                ...   \n",
       "95  Sans doute le pire film que j'ai vu, le ridicu...   \n",
       "96  typique des années 90, un peu daté mais pas ma...   \n",
       "97  Une réalisation pauvre du coup je mettais tous...   \n",
       "98  Ce navet est affligeant tellement il est mauva...   \n",
       "99  Premièrement je souhaiterai demander à allo ci...   \n",
       "\n",
       "                                                token  \\\n",
       "0   (Si, vous, cherchez, du, cinéma, abrutissant, ...   \n",
       "1   (Trash, ,, re-trash, et, re-re-trash, ..., !, ...   \n",
       "2   (Et, si, ,, dans, les, 5, premières, minutes, ...   \n",
       "3   (Mon, dieu, !, Quelle, métaphore, filée, !, Je...   \n",
       "4   (Premier, film, de, la, saga, Kozure, Okami, ,...   \n",
       "..                                                ...   \n",
       "95  (Sans, doute, le, pire, film, que, j', ai, vu,...   \n",
       "96  (typique, des, années, 90, ,, un, peu, daté, m...   \n",
       "97  (Une, réalisation, pauvre, du, coup, je, metta...   \n",
       "98  (Ce, navet, est, affligeant, tellement, il, es...   \n",
       "99  (Premièrement, je, souhaiterai, demander, à, a...   \n",
       "\n",
       "                                                lemma  \\\n",
       "0   [chercher, cinéma, abrutissant, étage, aucun, ...   \n",
       "1   [trash, re-trash, re-re-trash, horreur, nom, i...   \n",
       "2   [5, premier, minute, film, pathétique, maquett...   \n",
       "3   [dieu, métaphore, filée, abasourdi, réellement...   \n",
       "4   [film, saga, Kozure, Okami, sabre, vengeance, ...   \n",
       "..                                                ...   \n",
       "95  [doute, pire, film, ridicule, atteindre, somme...   \n",
       "96  [typique, année, 90, dater, mal, suspense, bie...   \n",
       "97  [réalisation, pauvre, coup, mettre, espoir, in...   \n",
       "98  [navet, affliger, mauver, scène, filmer, corre...   \n",
       "99  [souhaiter, demander, allo, ciné, pouvoir, met...   \n",
       "\n",
       "                                         review_lemma  \n",
       "0   chercher cinéma abrutissant étage aucun peur c...  \n",
       "1   trash re-trash re-re-trash horreur nom imagine...  \n",
       "2   5 premier minute film pathétique maquette trai...  \n",
       "3   dieu métaphore filée abasourdi réellement ici ...  \n",
       "4   film saga Kozure Okami sabre vengeance bon fil...  \n",
       "..                                                ...  \n",
       "95  doute pire film ridicule atteindre sommet ici ...  \n",
       "96  typique année 90 dater mal suspense bien jouer...  \n",
       "97  réalisation pauvre coup mettre espoir interpré...  \n",
       "98  navet affliger mauver scène filmer correctemen...  \n",
       "99  souhaiter demander allo ciné pouvoir mettre no...  \n",
       "\n",
       "[100 rows x 4 columns]"
      ]
     },
     "execution_count": 7,
     "metadata": {},
     "output_type": "execute_result"
    }
   ],
   "source": [
    "def get_lemmas(doc):\n",
    "    return [token.lemma_ for token in doc if not token.is_stop and not token.is_punct]\n",
    "\n",
    "def review_with_lemmas(doc):\n",
    "    return ' '.join([token.lemma_ for token in doc if not token.is_stop and not token.is_punct])\n",
    "\n",
    "df['token'] = df['review'].apply(nlp)\n",
    "df['lemma'] = df['token'].apply(get_lemmas)\n",
    "df['review_lemma'] = df['token'].apply(review_with_lemmas)\n",
    "df"
   ]
  },
  {
   "cell_type": "code",
   "execution_count": 8,
   "id": "77dcfa59",
   "metadata": {},
   "outputs": [
    {
     "name": "stdout",
     "output_type": "stream",
     "text": [
      "chercher cinéma abrutissant étage aucun peur cliché castagnette moralement douteux,\"From Paris with lover production Besson filière europacorp faire naître moquerie Paris fois montrer capitale exotique attention diriger banlieue trouver plein intégriste musulman prêt faire sauter caisson ambassadeur américain Nauséeux pouvoir apprécier déconnade classique buddy movie jeune agent dent long obligé faire équipe vieux lou complètement timbrer côté jonathan Rhys meyer fayot John Travolta total délir narcissico badas crâne raser bouc proéminent appui aucun scénario poursuite débile autoroute travolta étale 10 mec arme blanc 8 mouvements(!!)ou laisse associer faire démolir tronche scruter jumelle ca plaisir coupable hénaurme\",c' daube droite ligner transporteur\",\"taken\"ou banlieue 13\n",
      "trash re-trash re-re-trash horreur nom imaginer vous 20 premier minute orange Mécanique dilaté 70 minute bande vhs pourrave revisiter korine sauc année 2000 dandy punk Kubrick laisser place papy lubrique déguiser sac poubelle forniquer tronc arbre dispositif esthétique résumer filmage réalité enfiler scène destruction soumission pornographie maltraitance youtube youtube re-youtube bande limite ricanement malade rengaine obsédante limiter logorrhée queue tête surgir bribe poétique hummm explosion pétard débris plan émotionnel réussite complet korine parvenir économie moyen évident premier seconde flanquer malaise rare intensiter reprendre pan code porno trash voir snuff movie trop beaucoup trop point objet bizarre niveau dérang ad nauseam séduire jamais incontestable maîtrise caméra langage sorte Gummo inspiration ampleur chose affreusement délétère dégager vidéo hallucinant halluciner mettre image bande idiot consanguin perdre pitoyable autodafer white trash autant revoir chef oeuvre Lars Von trier chose transmettre efficace profondément débile perturbant\n",
      "5 premier minute film pathétique maquette train fendre neige gros plan laisser bien augurer artifice trop visible illustrer lourdeur 100 minute bobine atermoiement sentimentalisme balle fois train arriver gare croire honnêtement coup foudre Comte Vronsky Anna film axer moment petit délire suicido ferroviaire final Anna hauteur p train\n",
      "dieu métaphore filée abasourdi réellement ici métaphor filée acceptation mère pouvoir sexualité quelque papounet chéri Freud ange Disney channel Original movie intéressant falloir franchement vieux date an 2000 millénaire film connaître 11 septembre rendre compte candeur époque bénir dieu blague retrouver poncif genre meilleur amie noir ennemi devenir amie bel soeur début énerv finalement attache oh mignon donne nausée bref avoir rien classique ici énerver tête acteur sérieusement physique rien voir tête donne envie meurtre réprimer bien entendre pire beau pèr catastrophe censé personnage comique niveau Kev Adams humour sketch Norman drôle côté oui parfaitement ose aller peur rien coup curiosité chose croire vraiment âge DCOM fin année 2000 début 2010 frais beal oeuvre ici long chiant note tentative humour genre beau gosse aimer faire planche voile traduire planche voile fille répondre oeil amoureux jamais angle souri degré bien sûr bon prochain étape déterrer dcom année 90\n",
      "film saga Kozure Okami sabre vengeance bon film mêler dram action 40 an prendre ride\n",
      "amnésie thème susciter mystère falloir il capable construire scénario boursoufler accumuler incohérence invraisemblance noton stupidité titre français lien histoire\n",
      "commence comédie léger drame soudain basculer film suspense incroyable mâtiner étude psychologique fine mécanisme régir couple particulier groupe social général propos Elly film pavillon iranien -l' analyse comportement nouveau bourgeoisie pays remarquable- propos quête propre identité portée universel manière oeuvre Antonioni différence taille rythme rapide nerveux Asghar Farhadi imprim scénario opposé quasi totaliter film iranien voir jusque montage admirable arriver faire oublier agir huis clore étouffer dialogue formidable avancer action villa sis bord mer agité personnage central film connaître réponse énigme interprété magistral mention spécial acteur sublime propos Elly conte persan moderne voir défaut durer 116 minute\n",
      "excellent film merite étoile bon ricain suite empresser pourrir\n",
      "long métrage Pasolini Mamma Roma contenir plupart obsession auteur relation important construction humain mère fils adolescent Anna Magnani déchirer figure presque universel maman putain représentatif ville éternel film avance travers foule symbole fin jeune homme termin vie crucifier martyr société implacable réalisme poétique annoncer avancée extrême ultérieur Salo construction récit puissance commun pasolini montre grand cinéaste assimiler technique possibilité nouveau outil\n",
      "Créateur célèbre série téléviser Kaamelott 2004/2009 Alexandre Astier essayer conviction long métrage travers dépeindre étrange relation thérapeute riche patient atteinte trouble mémoire incursion cinéma caméra chose grand peut-être trop assurer réalisation scénarist compositeur acteur principal résultat drame parvenir insuffler dimension émotion requérir devoir transmettre ambiance particulier unir acteur Isabelle Adjani Alexandre Astier palpable regretter touche humour réellement place ici signalon agréable mise scène beau plan mal dutch angle séduisante b.o acteur convaincant aimer film pouvoir faire vibrer\n",
      "gros déception thriller noir réalisation feu flamme Leclerq peine convaincre arriver convaincre Raouf Dafri scénariste surcôté moment aucun moment histoire arriver convaincre personnage vraie tête claque psychologie trop sommairement dresser permettre comprendre adhérer action bout 45 min réaction incompréhensible finir aimer personnage simplement arriver amplement mérité désintéresser film 10 euro perdu\n",
      "excellent Triller visionnage préférable savourer quintessence\n",
      "scénario petit filouterie excuse folie scénario encontre cohérence scénaristiqu dédramatiser ensemble élément dramatique film aller respect cinéma cinéma français Asterix Obélix mission cléopatre comparer petit message Allociné critique presse internet exister film mettre jour note loin moyenne\n",
      "navet français truands\",frédéric Schoendoerffer attaquer milieu grand banditisme parisien intention louable film antipathique éprouver fatalemer rejet pourquoi?a cause violence verbal physique verse sensationnel style caméra épaule rien réaliste faux gangster movie dire représenter falloir éviter stéréotype réalisation tap oeil dialogue arider action pathétique passer arreter jeter ortie\n",
      "pire prévoir entrecouper question étonnamment pertinent appeler moi Dave presque jolie surprise dire bien presque malheureusement plupart temps comédie américain standard lourdaud terriblement bien-pensant comédie respecter Eddie Murphy pourtant point acteur drôle ailleurs ici échouer tirer projet haut enliser systématiquement consensualité gênant morale prévisible personnage caricaturau dialogue franchement élaborer toutefois sentiment piste intéressant idée original appréciable oublier acteur particulièrement craquante elizabeth Banks Gabrielle Union insuffiser toutefois compenser immense lacune comédie potentiel pourtant bien réel Dommage\n",
      "départ part film anti militariste efficace personnage devenir complexe ensemble devenir difficile saisir casting intéressant\n",
      "intéré faire film faire dépenser argent heureusement dvd rendez zero\n",
      "vraiment terrible cause animation simpliste vieillissant scénario ressort prévisible ultra conventionnel grand-chose tirer décevant\n",
      "film donne coeur joi casting efficace scénario simpliste repose originalité personnage gag sympa change gag habituel bon comédie trop familial cynisme mauvais goût être bon\n",
      "excellent western Jeff Bridges incarn cow boy hors-la-loi John Hurt interprèt croque mort ellen Barkin tenir rôle Calamity Jane scène tourner noir blanc\n",
      "film Ferrara obligatoirement chef oeuvre réalisateur vraiment don ose mettre scène choc film inoubliable walken monstrueux second rôle\n",
      "film lent long ennuyer plan juger facilement inutile histoire forcémer captivant instant poésie photographie grand espace américain bel acteur convaincant\n",
      "comédie horrifique complétement cinglé nanar ultra jouissif beaucoup aimer connaitre ambition départ bon vieux Olaf Ittenbach résultat folie cinéaste faucher bandé dure regarder fois vie jamais baisser niveau poilade\n",
      "uppercut mot poids décrire ressenti film force inoui plonger quotidien casque bleu ex-yougoslavie violence surgir surgir moment film reprendre structure voyage bout enfer cimino permettre identification total spectacteur scène intensité incroyable filmer manière banal mieux proximité époque passer conflit abstraire oeil monde prendre ici dimension critique lire film apparait particulièrement parlant savoir film addictif spectateur choc film guerre cinéma\n",
      "vouloir vraiment croire début accrocheur patatrer incohérence accumuler réalisation patin semoule direction acteur porte absent musique arriver coller scène bon acteur bon manque cohésion fil directeur gêner thriller fauché fin préférer abstenir dommage film grand potentiel\n",
      "Louis malle réalisation approche inédite vie célébrité scéne tour tour poétique choquant parfaitement juste Marcello Mastroianni prime annoncer bien probléme Brigitte Bardot jeu totalement inexpressif ennuyeux répétitif gros probléme puisque apparaître chaque scéne gâchis\n",
      "volet mythique saga film bon sympa voir Sean Connery parfaire ursuler Andress divin relaxer\n",
      "bof bof gageure haut Vargasc' univers personnage JB Adamsberg Danglard typer livre acteur répondre description psychologie hero jeu plat scénario manqu rythme déconseiller clairement fan Vargas\n",
      "film trop lent dialogue accroché\n",
      "inadaptable livre kundera aller kaufman film superbe kaufman intégrer cercle e grand réalisateur rejoindre alan parker bien bien triste\n",
      "film ennuyer endormir spectateur remake Dragon rouge grand réussite toutefois prenant sens\n",
      "film aventure partie écrire Bertrand Tavernier intérêt sortie plat fade petit scène action égailler film -là histoire consister essentiellement regarder personnage déplacer point point B. genre année dernier train Katanga nettement captivant capitaine Singrid trouver originalité femme héroïne rare type cinéma époque\n",
      "non blague critique positif premium rush carrémer ridicule dénuer crédibilité film adolescent semblant scénario demeure nullissime mal emmener dialogue pauvre croire second assister course poursuite 90 minute suspens foutre éperdument bon acteur Gordon Levitt shannon long métrage arrivée générique final attendre vite terminer film cesser tourner rond Michel trial côte casser vélo accélérer vite bel bagnole luxueux fin totalement ridicule gang biker passer bref cyclisme héroïque servir rien\n",
      "band annonce prometteur You' r Next pur nanar rêver mieux foutu vraiment cumuler cliché matière agir incohérence absolument ridicule mère tuer chambre fermé intérieur comprendre tueur nécessairement pièce circuler rien voir\n",
      "année passer douleur village ravager tsunami meurtrier habitant paralyser jamais trouver force aller effort père Douglas lueur espoir arriver forme miracle Léo revenir vie miraculeusement réveiller rien passer venir arriver chose irrévocable genre film aimer aimer fonction croire vraiment élément clé malheureusement accrocher propos histoire tourne rapidement rond chose sort lot joli photographie sentiment quiétude moment presque poétique voix off racont passer malheureusement loin sauver film vraiment ennuyé produire Terrence Malick savoir impliquer film ressembler film dernier aimé\n",
      "bon film mêler intrigu policier action humour film appuyer grand partie duo acteur composer Mark Wahlberg Denzel Washington fonctionner merveill acteur complémentaire dialogue excellent drôle casting citer Bill Paxton bad guy mal humour bon dose action histoire efficace film côté fun totalement décomplexer mieux bon film passer moment sympa\n",
      "film dénoter beaucoup maturité étude caractère exposition émotion équilibré fois appellation comédie dramatique prendre sens bon heure légèreté rencontre Paris assister drame clouer fauteuil heureusement film termine léger jeu acteur retrouver grand kevin Kline mimique naturel humble Kristin Scott Thomas sobre émouvant jeu femme 92 an maggie Smith pleine mélancolie esprit harmonie réalisateur quête authenticité histoire vouloir dévoiler achat viager américain constater monde petit bien filmer ton couleur sobre rare jolie balade Paris musique trop rare apparition regretter film sonorité anglo américain français laisse impression favorable, conseiller\n",
      "réalisateur complètement négliger aspect oppresser volet 1 favoriser côté humoristique film problème transition perdre crédibilité scénario personnage croque mort convaincant\n",
      "histoire soporifique peut-être passionner amérique année 90 français hermétique film cherche tirer larme spectateur côté malsain chute affaire jamais être élucider\n",
      "petit film amateur réaliser fan genre malheureusement manque moyen technique originalité flagrant persévérance aller loin\n",
      "bobine réussir annonciatrice talent excentrique réalisateur Alex Iglesia grâce scénario décalé bourré référence mêler habilement humour trash zeste gore franchement tordre injecter peintur acerbe société tacle méchamment média bourgeoisie retrouver sympathique action mutant gueule cher cinéma Alex iglesia personne Alex Angulo Santiago segurer rôle démesure utilisation particulière musique exemple remix amusant thème mission Impossible production almodovar réussite croire mal coup maître passer loin\n",
      "film tourner documentaire ailleurs baser fait réel montre bien importance énorme pouvoir financier politique population démocratie façade peuple laisse grand puissant agir guise impressionner\n",
      "doublage calamiteux sous-titrage partiel totalement stupide genre chant acteur sous-titrer répondre acteur traduire Vachement intelliger film bannir version français jeu acteur vraiment excellente supporter acteur beaucoup stéréotyper qualité variable chanson tombe comédie musical chant censé servir histoire ensemble devenir bancal bref film voir\n",
      "bon quart heure malheur accumuler homme envie rebondir monde soudainement trouver bonheur défi accomplir miraculeusement cliché prévisible film brasser finalement grand chose bel journée soirée rater\n",
      "film bénéficier culte lyonnais désolée apporter mauvais critique film 5 étoile exclusivement Allociné Béla Tarr ici question Stradivarius trouver poubelle il enrouler scénario film avoir incohérent crasseux infâme mal filmer jouer suite répéter niveau théâtre amateur rien vraiment achever intéressant vraiment infâme film injustifiable jamais voir culte lyonnais point être jouer samedi soir x année concevoir parfaitement\n",
      "oiseau succès abattre plein vol triste destiner\n",
      "ILE docteur moreau film souffrir stade production voir loin mauvais prétendent mix Apocalypse Now monstrueuse Parade proportion gardé qualité John Frankenheimer parfaitement réstituer atmosphère cauchemardesque livre scène tenir folie pur moreau joue Chopin nain difforme délirante!)!. ensuite maquillage proche perfection acteur ron Perlman Mark Dacascos parfaire hommes-animaux film fonctionner bien métaphore monde Marlon Brando obèse cabotin colle parfaitement personnage dommage val Kilmer concerner héros interpréter David Thewlis acteur charisme brosse dent film mérite réévaluer\n",
      "aller voir urgence\n",
      "ridicule monde frison roche navet comédien arriver crédible aucun émotion passer cri hurlement gros plan agitation permanent croire second lamentable faire téléfilm passer tv\n",
      "Boule Bill histoire film surprise surprise agréable demeurant spectateur septique avouer être aller voir comédie inspirer bande dessinée culte pourtant erreur film vaut humour omnipréser gag irrésistible particulièrement unescèn course poursuite décapant camion 2CV humour joie acteur frank dubosc mouche long fin venir vouloir adopter adorable boul poil bill final passer bon moment film trop long trop court avérer être intelligemmer penser joui bon fin morosité quotidien pousse gouffre dépression venir voir film retrouver sourire coup mention spécial jeune acteur camper rôle Boule extraordinaire talent maîtrise artistique chapeau artiste\n",
      "retrouver plaisir ripou préférer super histoire suite bien réussir\n",
      "film bel affiche d acteur s arrêter film aucun rebondissement devine absolument l avancer vriamer\n",
      "curiosité film vouloir adaptation livre froid page blanc Daniel Auteuil mal rôle homme choisir facilité amour partenaire rôle important passer inaperçu voir bel fille écoute joue femme blessé tourn pathétique minute\n",
      "fan série devoir avouer profondément déçu South Park film idée guerre us Canada fonctionner temps épisode 20 minute preuve combler vide auteur croire bon rajouter séquence musical somm plate conseil avoir 1h20 tuer enchaîner vous plûtot 3 4 épisode avoir gagner\n",
      "catastrophique Fullmetal alchemist sortir mois tôt version live Bleach pourtant rien intéressant montrer scénario quête initiatique basique spectacle rien exaltant\n",
      "dommage dire bel photo bon jeu acteur scénario brouillon demande réalisateur finir écrir scénario tourner écrire fur mesure intrigue désirer grand intérêt somme ca laisse regarder bon\n",
      "coloré scénario simple bien ficelé mélange nationalité genre culture ca grand film bon moment divertissement voir jour cafard pêche\n",
      "film magnifique duo acteur excellent Robert Niro Robin Williams acteur aimer beaucoup eveil beaucoup émouvoir larme oeil presque film acteur touchant histoire\n",
      "beau film amour divorce importance enfant couple roman Françoise Dorin rapport humain juste excès identifier vite protagoniste histoire ressembl marlène Jobert incarn parfaitement femme tirailler amour passionnel amour enfant film avoir narrer bien histoire ambivalent femme mère laisse volontiers porter mélodrame saluer superbe restauration orchestrer DVD éditer Gaumont film rarement diffuser mérite vraiment détour\n",
      "long 120 minute comédie eau rose final ressenti 300 kilomètre phase trainer longueur aucun intérêt éviter\n",
      "miroir véritable chef oeuvre année 50 signer Nicholas ray découvrir fois grâce Scorsese film voyage travers cinéma américain titre original bigger Than Life explicite montre ambition exacerber souffrir personnage principal incarner James Mason magistral signe meilleur performance incarner homme sombrer folie réalisation superbe travelling entrée film donne cinemascope pourtant utiliser drame psychologique époque retenir plan traitement cortisone hopital bande original mémorable souligner bien image grâce travail David Raksin regretter peut-être fin trop positif détail rapport qualité film dommage porter préjudice film\n",
      "MUST SEE MOVIE documentaire présente devoir apprendre école science naturel film changer perception compréhension arbre vrai modèle intelligence devoir inspirer devoir impérativement protéger\n",
      "probablement film surestimè cinèma amèricain comèdie musical mineure marque retrouvaille Vincente Minnelli ravissante Leslie Caron rôle inspirè roman Colette èter destinè Audrey Hepburn èter disponible ouf heureusement fade Louis Jourdan trop sourire maurice Chevalier accent anglais insupportable compléter distribution falloir français action dèrouler Paris 1900 1958 Gigi recevoir oscar meilleur film meilleur rèalisateur comprenn raz marèe grand succès public mauvais film Minnelli annèe dernier rèalisa chef oeuvre some Came Running Frankie Sinatra Visuellement Gigi mal Paris filmè savoir faire amèricain ensemble oeuvre paraître aujourd'hui thèâtral raison jeu acteur dècor amoureux Paris dupe regarder Gigi chanson charme indiscutable Leslie Caron sauver film banalitè toile fond excellent costume captès oeil Joseph Ruttenberg\n",
      "lieue film zombie classique année lumière majorité bouse cinématographique pulluler dernier année reprendre thème mort vivant The revenir créer surprise gros surprise film distinguer masse manière concept être développer intelligence scénario qualité dialogue humour noir présent éclipser mise place atmosphère tragique dramatique inutile palabrer simple carrémer regarder merveille\n",
      "Tiré histoire vrai Marga film poignant bien interpréter douter Allemagne nazi forme résistance film montre justesse\n",
      "histoire faire rigoler sinistre neurasthénique vraie apparence farce délirante cocasse rire beaucoup écouter protagoniste film dépêtrer affaire brin admiratif capacité imposer tranquillement bon humeur volonté infatigable résister défrise irréductibler villageois mener révolution tranquillement petit bled Hérault ici brigade entier débarquer force aurore bled joyeux pépère contestataire buraliste temps enfiler caleçon arrêté menotter embarquer cuisiné Pierre blondeau Jeannot Suisse Renard argenter soupçonner terrible terroriste oser menacer président république Hein demande voir absolument\n",
      "aller jusque Voice from the stone mauver vraiment terrible laisse place bel photographie campagne italien contre histoire vraiment soigner fouler cheville acteur transcender réalisation éviter\n",
      "génial Paul Walker exceptionnel rôle film bon interesser début fin haleter souhait\n",
      "thriller bien habile niveau scénario tueur série mal toutefois ca souffrir franchement comparaison Seven\n",
      "film ennui mortel répétitif décor musique personnage attitude paysage extérieur bien difficile croire Inde voir architecture maison arbre artifice Marguerite Duras essayer créer atmosphère titre India Song domestique habiller couleur local nom ville endroit citer voix off croire instant film artificiel sophistiquer outrance émotion\n",
      "mesure Fabrice Lucchini grâce joli succès remporter début année 90 séduire film auteur faire connaître public beaucoup large appât piège séduction teinter représaille Judith Henry illuminer naturel co-écrit réaliser Christian Vincent discrète petit bijou servir charmant dialogue fin avis mal exploiter\n",
      "impossible aller bout film Personnages navrant dialogue insipide vite lâcher prise beau vampire permettre spectateur haleine comble horreur marionnette bouger bien squelette jason argonaute année différence Beurk film vampire oublier\n",
      "évidence saute oeil grand cinéma visuel extrêmement dialoguer magnifique parole sous-titrage devoir prendre minute image numérique tirer 35 millimètre époustouflant grand travail lumière bien sûr cadrage principal protagoniste trouver surprenant gros plan film poésie cinématographique ode valeur terre cultivable réalisation brillante rigueur grand moment consacrer expression visage ride gros nez tâche rousseur scénario fin universel thème\n",
      "film kung fu alterne facilité déconcerter style comique violence crue scène typique kung fu comedy irrévérence répondre combat sanguinaire scène choque méchant mandchou cruel souhait acrobatie réussir bagarre final valoir peser cacahouète bon classique film kung fu made in Hong Kong\n",
      "forcer voir humour lourd abrutissant point\n",
      "Original action passer endroit recul allemagne histoire reel interet filmer allemande\n",
      "trop énorme film gore quasiment plan baston incroyable complétement déjanter fille caractère humour demander scènario nooon besoin\n",
      "dtv JCVD bon choix film intéressant prenant sujet actualité guest star JCVD devenir personnage principal style bien bon film action traiter traite enfant\n",
      "bel histoire raconter rythme lent distribution mettre part WAHOO\n",
      "truc supposer blockbuster rythme apparemment largement préférer préserver image sex symbol Angelina Jolie soigner montage film truffé incohérence cliché grotesque devenir vraiment pénible attendre fin impatience\n",
      "comédie banal moment limite lourd particulier personnage Patrick Timsit gentillet voir prendre tête voir vedette\n",
      "aucun scénario aucun intérêt jeu massacre\n",
      "chef oeuvre incontestable misère délinquance jeunesse Brésilienne sujet actualité aimer cinema aimer film\n",
      "falloir reconnaitre mise scène Robert Florey inexistant vrai thème film intérésser montrer beaucoup cynisme état esprit bourgeoisie époque grand film faux blanc noir curiosité agréable sauver dialogue Guitry présence Raimu\n",
      "Kawajiri livrer bel pièce japanimation manga particulier travers splendeur visuel NINJA SCROLL film extrêmement violent traverser éclat rage viscéral émotion brut pleurer beauté oeuvre incroyablemer dense gonflé mise scène emporter passage rien perdu puissance sortie 10 an grand cinéma épique beal film aventure jamais réaliser enrager poignant virtuose simplement immanquable\n",
      "globalement gros saga meilleur film action film jamais égaler épisode suivre\n",
      "film tirer histoire vrai histoire bon film interprétation mise scène prêt sourire bancal dommage\n",
      "film poignant cruel renoncement nom convention social british cinéaste américain James Ivory clean rigide guinder empesé suranné morose prouver magistralement oeuvre tristesse refouler douloureux renforcer osmose parfait 2 interprète principal ambiance britannique Anthony hopkin démontrer fois immense taler comédien preuve jeu contenu absolument bouleversant\n",
      "ben faiblard Rec Rec² suite film horreur succès précense chef oeuvre fier prouesse film réalisateur donner ici coeur joi mieux force intervention espagnol crédible savoir garder calme circonstance dialogue extrêmement imaginatif redondant dépeignent efficacité personnage bord rupture véritable enfer mention spécial passage gamin agréable entendre adorer aspect démoniaque sujet aucun cas pomper film Exorciste damien malediction contraire réinvent totalement genre épouvante fin sublime vivement 3\n",
      "duo génial perdre innommable navet\n",
      "film chouette comédien bon histoire amitié traiter histoire amour sonn rappeler année lycer beaucoup étouffer respir léger ressortir salle bel note positif envie revivre insouciance vie étudiant BO génial accompagner parfaitement film voir\n",
      "1953 Joseph Staline mourir attaque cardiaque membre Politburo lancer quête pouvoir Adapté band dessinée français nom film globalement fidèle amusant voir film langue anglais donner dirigeant PC jurer base fuck humour absurde film parvenir montrer manière caricatural drôle arbitraire horreur régime stalinien acteur bon incarner staline pis mourir vite\n",
      "film spécial début grand-guignolesque costume pvc film prendre profondeur suite légend chinois difficilemer intéressent fin brutal bref manque saveur\n",
      "bravo équipe réaliser beau reportag film vraiment mérite revoir regarder famille age confondre grand fan basket montre donne bel leçon domaine niveau sportif encourager acheter regarder offrir regretterez vraiment evan énormément mérite courage vraiment bel exemple souhaiter aller bien loin franchement finir entendre dépêcher vous aller acheter dvd evan rêve américain vente boutique maudit somme 15 euro temps venir encourager équipe problème bien besoin aller PB86\n",
      "Sparring Mathieu Kassovitz joue boxer faire combat contre tas cliché ailleurs titre anglais film devoir Rocky The Wrestler prendre beaucoup film heureusement Kassovitz fort coup coeur cesse performance mettre KO talent réalisation compétent bo frappe fort ici film marquer spectateur\n",
      "doute pire film ridicule atteindre sommet ici scène pitoyable Jack palance cabotin mort héros film incarner année tard jouer père Jack Lost voir fun\n",
      "typique année 90 dater mal suspense bien jouer histoire original passer bon moment\n",
      "réalisation pauvre coup mettre espoir interprétation Pierre Brasseur héler meilleur prestation\n",
      "navet affliger mauver scène filmer correctement meurtre plaisant acteur crédible sortir lot scénario inexister effet spécial crédible conseiller attaque crocodile géant fan genre apprécier série z prendre aucun plaisir fun déjanter regarder Solitaire black Water Lake Placid incroyable Alligator film saurien\n",
      "souhaiter demander allo ciné pouvoir mettre note négatif film passer argent hypothèque maison Vin Diesel heureusement payer place cinéma avoir demander rembourser conclusion aller voir film\n"
     ]
    }
   ],
   "source": [
    "for item in df['review_lemma'].values:\n",
    "    print(item)"
   ]
  },
  {
   "cell_type": "markdown",
   "id": "4d3ee67f",
   "metadata": {},
   "source": [
    "## TF-IDF"
   ]
  },
  {
   "cell_type": "code",
   "execution_count": null,
   "id": "e3724362",
   "metadata": {},
   "outputs": [],
   "source": [
    "from sklearn.feature_extraction.text import TfidfVectorizer\n",
    "from sklearn.metrics.pairwise import cosine_similarity"
   ]
  },
  {
   "cell_type": "code",
   "execution_count": null,
   "id": "e2670db5",
   "metadata": {},
   "outputs": [],
   "source": [
    "vectorizer = TfidfVectorizer()\n",
    "vectors = vectorizer.fit_transform(train_dataset[:6]['review'])\n",
    "vectors.todense()"
   ]
  },
  {
   "cell_type": "markdown",
   "id": "a8a04f2b",
   "metadata": {},
   "source": [
    "## **Similarity Search**"
   ]
  },
  {
   "cell_type": "code",
   "execution_count": null,
   "id": "e3f8f8e9",
   "metadata": {},
   "outputs": [
    {
     "data": {
      "text/plain": [
       "array([2, 1, 0])"
      ]
     },
     "execution_count": 52,
     "metadata": {},
     "output_type": "execute_result"
    }
   ],
   "source": [
    "similarities = cosine_similarity(vectors, vectors)\n",
    "# top_indices = similarities.argsort()[0][-5:]\n",
    "similarities"
   ]
  },
  {
   "cell_type": "code",
   "execution_count": null,
   "id": "68d893f2",
   "metadata": {},
   "outputs": [],
   "source": [
    "test_similarity = train_dataset[:6]['review'] + [\"Si vous cherchez du cinéma abrutissant\"]\n",
    "print(test_similarity)\n",
    "\n",
    "vectors = vectorizer.fit_transform(test_similarity)\n",
    "similarities = cosine_similarity(vectors, vectors)\n",
    "similarities"
   ]
  },
  {
   "cell_type": "code",
   "execution_count": 65,
   "id": "35b2da76",
   "metadata": {},
   "outputs": [
    {
     "data": {
      "text/plain": [
       "array([[1.        , 0.05043642, 0.03851261, 0.04532326, 0.53546271],\n",
       "       [0.05043642, 1.        , 0.21756628, 0.11661921, 0.0898525 ],\n",
       "       [0.03851261, 0.21756628, 1.        , 0.08904894, 0.06861022],\n",
       "       [0.04532326, 0.11661921, 0.08904894, 1.        , 0.17727473],\n",
       "       [0.53546271, 0.0898525 , 0.06861022, 0.17727473, 1.        ]])"
      ]
     },
     "execution_count": 65,
     "metadata": {},
     "output_type": "execute_result"
    }
   ],
   "source": [
    "test_similarity = [\"Un avion est en train de décoller.\",\n",
    "          \"Un homme joue d'une grande flûte.\",\n",
    "          \"Un homme étale du fromage râpé sur une pizza.\",\n",
    "          \"Une personne jette un chat au plafond.\",\n",
    "          \"Une personne est en train de plier un morceau de papier.\",\n",
    "          ]\n",
    "\n",
    "vectors = vectorizer.fit_transform(test_similarity)\n",
    "similarities = cosine_similarity(vectors, vectors)\n",
    "similarities"
   ]
  },
  {
   "cell_type": "markdown",
   "id": "2fba9446",
   "metadata": {},
   "source": [
    "## Embedding"
   ]
  },
  {
   "cell_type": "code",
   "execution_count": 38,
   "id": "d8c3cfc3",
   "metadata": {},
   "outputs": [],
   "source": [
    "from sentence_transformers import SentenceTransformer, util\n",
    "from transformers import AutoModel, AutoTokenizer"
   ]
  },
  {
   "cell_type": "code",
   "execution_count": null,
   "id": "f0829c32",
   "metadata": {},
   "outputs": [],
   "source": [
    "model = SentenceTransformer(r\"C:\\Users\\Utilisateur\\Documents\\mytheque\\Models\\sentence-camembert-large\", local_files_only=True)"
   ]
  },
  {
   "cell_type": "code",
   "execution_count": 15,
   "id": "d09e8011",
   "metadata": {},
   "outputs": [
    {
     "data": {
      "text/plain": [
       "array([ 0.19306128, -0.11996752, -0.3786842 , ...,  0.12942207,\n",
       "        0.2684721 ,  0.10108169], shape=(1024,), dtype=float32)"
      ]
     },
     "execution_count": 15,
     "metadata": {},
     "output_type": "execute_result"
    }
   ],
   "source": [
    "model.encode(train_dataset[0]['review'])"
   ]
  },
  {
   "cell_type": "code",
   "execution_count": null,
   "id": "7da22765",
   "metadata": {},
   "outputs": [],
   "source": [
    "df['embedding'] = df['review'].apply(lambda w : model.encode(w))"
   ]
  },
  {
   "cell_type": "code",
   "execution_count": 19,
   "id": "f3bdb386",
   "metadata": {},
   "outputs": [
    {
     "data": {
      "text/html": [
       "<div>\n",
       "<style scoped>\n",
       "    .dataframe tbody tr th:only-of-type {\n",
       "        vertical-align: middle;\n",
       "    }\n",
       "\n",
       "    .dataframe tbody tr th {\n",
       "        vertical-align: top;\n",
       "    }\n",
       "\n",
       "    .dataframe thead th {\n",
       "        text-align: right;\n",
       "    }\n",
       "</style>\n",
       "<table border=\"1\" class=\"dataframe\">\n",
       "  <thead>\n",
       "    <tr style=\"text-align: right;\">\n",
       "      <th></th>\n",
       "      <th>review</th>\n",
       "      <th>embedding</th>\n",
       "    </tr>\n",
       "  </thead>\n",
       "  <tbody>\n",
       "    <tr>\n",
       "      <th>0</th>\n",
       "      <td>Si vous cherchez du cinéma abrutissant à tous ...</td>\n",
       "      <td>[0.19306128, -0.11996752, -0.3786842, 0.047587...</td>\n",
       "    </tr>\n",
       "    <tr>\n",
       "      <th>1</th>\n",
       "      <td>Trash, re-trash et re-re-trash...! Une horreur...</td>\n",
       "      <td>[-0.01557752, -0.18321595, -0.08755206, 0.1351...</td>\n",
       "    </tr>\n",
       "    <tr>\n",
       "      <th>2</th>\n",
       "      <td>Et si, dans les 5 premières minutes du film, l...</td>\n",
       "      <td>[-0.2778221, -0.15710041, -0.3382795, 0.167760...</td>\n",
       "    </tr>\n",
       "    <tr>\n",
       "      <th>3</th>\n",
       "      <td>Mon dieu ! Quelle métaphore filée ! Je suis ab...</td>\n",
       "      <td>[0.23153108, -0.10687427, -0.1058496, 0.408893...</td>\n",
       "    </tr>\n",
       "    <tr>\n",
       "      <th>4</th>\n",
       "      <td>Premier film de la saga Kozure Okami, \"Le Sabr...</td>\n",
       "      <td>[-0.16487095, 0.38755867, -0.066273704, 0.1954...</td>\n",
       "    </tr>\n",
       "    <tr>\n",
       "      <th>...</th>\n",
       "      <td>...</td>\n",
       "      <td>...</td>\n",
       "    </tr>\n",
       "    <tr>\n",
       "      <th>95</th>\n",
       "      <td>Sans doute le pire film que j'ai vu, le ridicu...</td>\n",
       "      <td>[-0.14285047, -0.06474736, -0.22349982, 0.5060...</td>\n",
       "    </tr>\n",
       "    <tr>\n",
       "      <th>96</th>\n",
       "      <td>typique des années 90, un peu daté mais pas ma...</td>\n",
       "      <td>[0.17517376, -0.054622572, -0.22175737, 0.1697...</td>\n",
       "    </tr>\n",
       "    <tr>\n",
       "      <th>97</th>\n",
       "      <td>Une réalisation pauvre du coup je mettais tous...</td>\n",
       "      <td>[0.1267551, -0.4698259, -0.14230217, -0.020845...</td>\n",
       "    </tr>\n",
       "    <tr>\n",
       "      <th>98</th>\n",
       "      <td>Ce navet est affligeant tellement il est mauva...</td>\n",
       "      <td>[0.0035572576, -0.27487898, -0.23988113, -0.22...</td>\n",
       "    </tr>\n",
       "    <tr>\n",
       "      <th>99</th>\n",
       "      <td>Premièrement je souhaiterai demander à allo ci...</td>\n",
       "      <td>[0.080255695, -0.4830711, -0.3863661, -0.04976...</td>\n",
       "    </tr>\n",
       "  </tbody>\n",
       "</table>\n",
       "<p>100 rows × 2 columns</p>\n",
       "</div>"
      ],
      "text/plain": [
       "                                               review  \\\n",
       "0   Si vous cherchez du cinéma abrutissant à tous ...   \n",
       "1   Trash, re-trash et re-re-trash...! Une horreur...   \n",
       "2   Et si, dans les 5 premières minutes du film, l...   \n",
       "3   Mon dieu ! Quelle métaphore filée ! Je suis ab...   \n",
       "4   Premier film de la saga Kozure Okami, \"Le Sabr...   \n",
       "..                                                ...   \n",
       "95  Sans doute le pire film que j'ai vu, le ridicu...   \n",
       "96  typique des années 90, un peu daté mais pas ma...   \n",
       "97  Une réalisation pauvre du coup je mettais tous...   \n",
       "98  Ce navet est affligeant tellement il est mauva...   \n",
       "99  Premièrement je souhaiterai demander à allo ci...   \n",
       "\n",
       "                                            embedding  \n",
       "0   [0.19306128, -0.11996752, -0.3786842, 0.047587...  \n",
       "1   [-0.01557752, -0.18321595, -0.08755206, 0.1351...  \n",
       "2   [-0.2778221, -0.15710041, -0.3382795, 0.167760...  \n",
       "3   [0.23153108, -0.10687427, -0.1058496, 0.408893...  \n",
       "4   [-0.16487095, 0.38755867, -0.066273704, 0.1954...  \n",
       "..                                                ...  \n",
       "95  [-0.14285047, -0.06474736, -0.22349982, 0.5060...  \n",
       "96  [0.17517376, -0.054622572, -0.22175737, 0.1697...  \n",
       "97  [0.1267551, -0.4698259, -0.14230217, -0.020845...  \n",
       "98  [0.0035572576, -0.27487898, -0.23988113, -0.22...  \n",
       "99  [0.080255695, -0.4830711, -0.3863661, -0.04976...  \n",
       "\n",
       "[100 rows x 2 columns]"
      ]
     },
     "execution_count": 19,
     "metadata": {},
     "output_type": "execute_result"
    }
   ],
   "source": [
    "df[['review', 'embedding']]"
   ]
  },
  {
   "cell_type": "code",
   "execution_count": 76,
   "id": "45054ea9",
   "metadata": {},
   "outputs": [
    {
     "name": "stdout",
     "output_type": "stream",
     "text": [
      "(6, 1024)\n"
     ]
    },
    {
     "data": {
      "text/plain": [
       "array([[ 0.11892722,  0.46865812, -0.62379724, ...,  0.46460527,\n",
       "         0.2039351 ,  0.07192303],\n",
       "       [-0.37721995,  0.24875322,  0.1830102 , ...,  0.35383818,\n",
       "         0.11625216,  0.09876025],\n",
       "       [-0.16000931, -0.01209719,  0.03265126, ..., -0.05747368,\n",
       "        -0.41359037,  0.15602526],\n",
       "       [ 0.23739465, -0.5312759 ,  0.1390972 , ..., -0.46047148,\n",
       "         0.14653896, -0.5297922 ],\n",
       "       [ 0.32796627,  0.0279403 , -0.3251529 , ...,  0.6037205 ,\n",
       "        -0.01314403,  0.16631809],\n",
       "       [-0.66081023, -0.16198173, -0.22883216, ..., -0.11857213,\n",
       "        -0.43039393,  0.12713504]], shape=(6, 1024), dtype=float32)"
      ]
     },
     "execution_count": 76,
     "metadata": {},
     "output_type": "execute_result"
    }
   ],
   "source": [
    "sentences = [\"Un avion est en train de décoller.\",\n",
    "          \"Un homme joue d'une grande flûte.\",\n",
    "          \"Un homme étale du fromage râpé sur une pizza.\",\n",
    "          \"Une personne jette un chat au plafond.\",\n",
    "          \"Une personne est en train de plier un morceau de papier.\",\n",
    "          \"Un italien prépare le repas avec du fromage\"\n",
    "          ]\n",
    "\n",
    "embeddings = model.encode(sentences)\n",
    "print(embeddings.shape)\n",
    "embeddings"
   ]
  },
  {
   "cell_type": "markdown",
   "id": "28a20b4b",
   "metadata": {},
   "source": [
    "## **Similarity Search**"
   ]
  },
  {
   "cell_type": "code",
   "execution_count": null,
   "id": "29a4eaa4",
   "metadata": {},
   "outputs": [],
   "source": [
    "similarities = model.similarity(embeddings, embeddings)\n",
    "print(similarities.shape)\n",
    "\n",
    "for idx_i, sentence1 in enumerate(sentences):\n",
    "    print(sentence1)\n",
    "    for idx_j, sentence2 in enumerate(sentences):\n",
    "        print(f\" - {sentence2: <30}: {similarities[idx_i][idx_j]:.4f}\")"
   ]
  },
  {
   "cell_type": "code",
   "execution_count": null,
   "id": "c937c868",
   "metadata": {},
   "outputs": [
    {
     "data": {
      "text/plain": [
       "array([[1.        , 0.05043642, 0.03851261, 0.04532326, 0.53546271],\n",
       "       [0.05043642, 1.        , 0.21756628, 0.11661921, 0.0898525 ],\n",
       "       [0.03851261, 0.21756628, 1.        , 0.08904894, 0.06861022],\n",
       "       [0.04532326, 0.11661921, 0.08904894, 1.        , 0.17727473],\n",
       "       [0.53546271, 0.0898525 , 0.06861022, 0.17727473, 1.        ]])"
      ]
     },
     "execution_count": 78,
     "metadata": {},
     "output_type": "execute_result"
    }
   ],
   "source": [
    "# Similarity from Sklearn\n",
    "cosine_similarity(vectors, vectors)"
   ]
  },
  {
   "cell_type": "markdown",
   "id": "fa277dd2",
   "metadata": {},
   "source": [
    "## Comparison of similarity search"
   ]
  },
  {
   "cell_type": "markdown",
   "id": "da311a0b",
   "metadata": {},
   "source": [
    "We compare similarity search from TF-IDF and from embedding"
   ]
  },
  {
   "cell_type": "code",
   "execution_count": 129,
   "id": "34419410",
   "metadata": {},
   "outputs": [],
   "source": [
    "sentences = [\"Un avion est en train de décoller.\",\n",
    "          \"Un homme joue d'une grande flûte.\",\n",
    "          \"Un homme étale du fromage râpé sur une pizza.\",\n",
    "          \"Une personne jette un chat au plafond.\",\n",
    "          \"Une personne est en train de plier un morceau de papier.\",\n",
    "          \"Un italien prépare le repas avec du fromage\"\n",
    "          ]"
   ]
  },
  {
   "cell_type": "code",
   "execution_count": 130,
   "id": "e1abf429",
   "metadata": {},
   "outputs": [
    {
     "data": {
      "text/plain": [
       "array([[1.        , 0.04338402, 0.03478563, 0.039009  , 0.53882999,\n",
       "        0.03485039],\n",
       "       [0.04338402, 1.        , 0.2319948 , 0.11693662, 0.08942492,\n",
       "        0.03749623],\n",
       "       [0.03478563, 0.2319948 , 1.        , 0.09376067, 0.07170157,\n",
       "        0.23525734],\n",
       "       [0.039009  , 0.11693662, 0.09376067, 1.        , 0.17889004,\n",
       "        0.03371496],\n",
       "       [0.53882999, 0.08942492, 0.07170157, 0.17889004, 1.        ,\n",
       "        0.02578284],\n",
       "       [0.03485039, 0.03749623, 0.23525734, 0.03371496, 0.02578284,\n",
       "        1.        ]])"
      ]
     },
     "execution_count": 130,
     "metadata": {},
     "output_type": "execute_result"
    }
   ],
   "source": [
    "vectors = vectorizer.fit_transform(sentences)\n",
    "similarities = cosine_similarity(vectors, vectors)\n",
    "similarities"
   ]
  },
  {
   "cell_type": "code",
   "execution_count": 103,
   "id": "64e2f77d",
   "metadata": {},
   "outputs": [
    {
     "data": {
      "text/plain": [
       "tensor([[ 1.0000, -0.0397, -0.0080,  0.0912,  0.0802, -0.0068],\n",
       "        [-0.0397,  1.0000,  0.0366, -0.0030, -0.0276,  0.0167],\n",
       "        [-0.0080,  0.0366,  1.0000,  0.0208,  0.1100,  0.6652],\n",
       "        [ 0.0912, -0.0030,  0.0208,  1.0000,  0.1168, -0.0163],\n",
       "        [ 0.0802, -0.0276,  0.1100,  0.1168,  1.0000,  0.0678],\n",
       "        [-0.0068,  0.0167,  0.6652, -0.0163,  0.0678,  1.0000]])"
      ]
     },
     "execution_count": 103,
     "metadata": {},
     "output_type": "execute_result"
    }
   ],
   "source": [
    "embeddings = model.encode(sentences)\n",
    "similarities = model.similarity(embeddings, embeddings)\n",
    "similarities"
   ]
  },
  {
   "cell_type": "markdown",
   "id": "8c6043f4",
   "metadata": {},
   "source": [
    "## FAISS"
   ]
  },
  {
   "cell_type": "markdown",
   "id": "804ab22e",
   "metadata": {},
   "source": [
    "**With TF-IDF**"
   ]
  },
  {
   "cell_type": "code",
   "execution_count": null,
   "id": "8912c9cc",
   "metadata": {},
   "outputs": [],
   "source": [
    "print(type(vectors))\n",
    "dense_matrix = vectors.toarray().astype('float32')\n",
    "print(type(dense_matrix))\n",
    "\n",
    "dim = dense_matrix.shape[1]\n",
    "print(\"dim\", dim)\n",
    "\n",
    "index = faiss.IndexFlatIP(dim)  # Produit Scalaire\n",
    "index.add(dense_matrix)\n",
    "\n",
    "# Recherche\n",
    "query_embedding = model.encode([\"chien\"]).astype(np.float32)\n",
    "distances, indices = index.search(query_embedding, k=3)\n",
    "# distances, indices"
   ]
  },
  {
   "cell_type": "code",
   "execution_count": null,
   "id": "a9619dd2",
   "metadata": {},
   "outputs": [],
   "source": [
    "# Recherche\n",
    "query_embedding = model.encode([\"chien\"]).astype(np.float32)\n",
    "distances, indices = index.search(query_embedding, k=6)  # Top 10 résultats\n",
    "distances, indices"
   ]
  },
  {
   "cell_type": "code",
   "execution_count": null,
   "id": "7e9bd01f",
   "metadata": {},
   "outputs": [],
   "source": [
    "# Création de l'index FAISS\n",
    "dim = embeddings.shape[1]\n",
    "index = faiss.IndexFlatIP(dim)  # Produit Scalaire\n",
    "index.add(embeddings.astype(np.float32))\n",
    "\n",
    "# Recherche\n",
    "query_embedding = model.encode([\"chien\"]).astype(np.float32)\n",
    "distances, indices = index.search(query_embedding, k=6)  # Top 10 résultats\n",
    "distances, indices"
   ]
  },
  {
   "cell_type": "markdown",
   "id": "5b32cf72",
   "metadata": {},
   "source": [
    "**With embedding**"
   ]
  },
  {
   "cell_type": "code",
   "execution_count": 117,
   "id": "db08c4b9",
   "metadata": {},
   "outputs": [
    {
     "data": {
      "text/plain": [
       "numpy.ndarray"
      ]
     },
     "execution_count": 117,
     "metadata": {},
     "output_type": "execute_result"
    }
   ],
   "source": [
    "type(embeddings)"
   ]
  },
  {
   "cell_type": "code",
   "execution_count": null,
   "id": "8cad45c3",
   "metadata": {},
   "outputs": [
    {
     "name": "stdout",
     "output_type": "stream",
     "text": [
      "dim 1024\n",
      "<class 'faiss.swigfaiss_avx2.IndexFlatIP'>\n"
     ]
    },
    {
     "data": {
      "text/plain": [
       "(array([[ 6.021308 ,  4.0883536, -0.887233 , -2.646186 , -3.7058098,\n",
       "         -6.065552 ]], dtype=float32),\n",
       " array([[3, 1, 4, 5, 0, 2]]))"
      ]
     },
     "execution_count": 122,
     "metadata": {},
     "output_type": "execute_result"
    }
   ],
   "source": [
    "# Création de l'index FAISS\n",
    "dim = embeddings.shape[1]\n",
    "print(\"dim\", dim)\n",
    "index = faiss.IndexFlatIP(dim)  # Produit Scalaire\n",
    "#faiss.IndexFlatL2 ...\n",
    "\n",
    "print(type(index))\n",
    "index.add(embeddings.astype(np.float32))\n",
    "\n",
    "# Recherche\n",
    "search_text = \"chien\"\n",
    "search_vector = model.encode(search_text)\n",
    "distances, indices = index.search(query_embedding, k=6)  # Top 10 résultats\n",
    "distances, indices"
   ]
  },
  {
   "cell_type": "markdown",
   "id": "bde44dd0",
   "metadata": {},
   "source": [
    "## Example from Medium\n",
    "https://medium.com/loopio-tech/how-to-use-faiss-to-build-your-first-similarity-search-bf0f708aa772"
   ]
  },
  {
   "cell_type": "code",
   "execution_count": null,
   "id": "531fad8f",
   "metadata": {},
   "outputs": [
    {
     "name": "stdout",
     "output_type": "stream",
     "text": [
      "k 4\n"
     ]
    },
    {
     "data": {
      "text/html": [
       "<div>\n",
       "<style scoped>\n",
       "    .dataframe tbody tr th:only-of-type {\n",
       "        vertical-align: middle;\n",
       "    }\n",
       "\n",
       "    .dataframe tbody tr th {\n",
       "        vertical-align: top;\n",
       "    }\n",
       "\n",
       "    .dataframe thead th {\n",
       "        text-align: right;\n",
       "    }\n",
       "</style>\n",
       "<table border=\"1\" class=\"dataframe\">\n",
       "  <thead>\n",
       "    <tr style=\"text-align: right;\">\n",
       "      <th></th>\n",
       "      <th>distances</th>\n",
       "      <th>ann</th>\n",
       "    </tr>\n",
       "  </thead>\n",
       "  <tbody>\n",
       "    <tr>\n",
       "      <th>0</th>\n",
       "      <td>0.294170</td>\n",
       "      <td>0</td>\n",
       "    </tr>\n",
       "    <tr>\n",
       "      <th>1</th>\n",
       "      <td>0.863272</td>\n",
       "      <td>3</td>\n",
       "    </tr>\n",
       "    <tr>\n",
       "      <th>2</th>\n",
       "      <td>1.523529</td>\n",
       "      <td>1</td>\n",
       "    </tr>\n",
       "    <tr>\n",
       "      <th>3</th>\n",
       "      <td>1.835073</td>\n",
       "      <td>2</td>\n",
       "    </tr>\n",
       "  </tbody>\n",
       "</table>\n",
       "</div>"
      ],
      "text/plain": [
       "   distances  ann\n",
       "0   0.294170    0\n",
       "1   0.863272    3\n",
       "2   1.523529    1\n",
       "3   1.835073    2"
      ]
     },
     "execution_count": 126,
     "metadata": {},
     "output_type": "execute_result"
    }
   ],
   "source": [
    "data = [['Where are your headquarters located?', 'location'],\n",
    "['Network Access Control?', 'networking'],\n",
    "['Throw my cellphone in the water', 'random'],\n",
    "['Address', 'location']]\n",
    "df_ = pd.DataFrame(data, columns = ['text', 'category'])\n",
    "\n",
    "text = df_['text']\n",
    "encoder = model\n",
    "vectors = encoder.encode(text)\n",
    "\n",
    "vector_dimension = vectors.shape[1]\n",
    "index = faiss.IndexFlatL2(vector_dimension)\n",
    "faiss.normalize_L2(vectors)\n",
    "index.add(vectors)\n",
    "\n",
    "search_text = 'where is your office?'\n",
    "search_vector = encoder.encode(search_text)\n",
    "_vector = np.array([search_vector])\n",
    "faiss.normalize_L2(_vector)\n",
    "\n",
    "k = index.ntotal\n",
    "print('k', k)\n",
    "distances, ann = index.search(_vector, k=k)\n",
    "\n",
    "results = pd.DataFrame({'distances': distances[0], 'ann': ann[0]})\n",
    "results"
   ]
  },
  {
   "cell_type": "markdown",
   "id": "6010be6e",
   "metadata": {},
   "source": [
    "## Exemple GPT\n",
    "\n",
    "TF-IDF en matrice creuse suivi d'une réduction de dimension puis de recherche de similarité avec FAISS"
   ]
  },
  {
   "cell_type": "code",
   "execution_count": 155,
   "id": "8ab6db7c",
   "metadata": {},
   "outputs": [
    {
     "name": "stdout",
     "output_type": "stream",
     "text": [
      "Requête : une femme mange le camembert\n",
      "\n",
      "Documents les plus similaires :\n",
      "1. le chat dort sur le canapé (distance : 0.6126)\n",
      "2. le chien joue dans le jardin (distance : 0.6391)\n",
      "3. le chat et le chien sont amis (distance : 0.7095)\n",
      "4. Un homme joue d'une grande flûte. (distance : 0.7996)\n",
      "5. Une personne jette un chat au plafond. (distance : 0.8432)\n",
      "6. le canapé est confortable (distance : 0.8716)\n",
      "7. Un homme étale du fromage râpé sur une pizza. (distance : 0.8984)\n",
      "8. Une personne est en train de plier un morceau de papier. (distance : 0.9672)\n",
      "9. la pluie tombe sur le jardin (distance : 0.9793)\n",
      "10. Un italien prépare le repas avec du fromage (distance : 1.0215)\n",
      "11. Un avion est en train de décoller. (distance : 1.3054)\n"
     ]
    }
   ],
   "source": [
    "import numpy as np\n",
    "from sklearn.feature_extraction.text import TfidfVectorizer\n",
    "from sklearn.decomposition import TruncatedSVD\n",
    "import faiss\n",
    "\n",
    "# 1. Quelques documents exemple\n",
    "documents = [\n",
    "    \"le chat dort sur le canapé\",\n",
    "    \"le chien joue dans le jardin\",\n",
    "    \"le chat et le chien sont amis\",\n",
    "    \"la pluie tombe sur le jardin\",\n",
    "    \"le canapé est confortable\",\n",
    "    \"Un avion est en train de décoller.\",\n",
    "    \"Un homme joue d'une grande flûte.\",\n",
    "    \"Un homme étale du fromage râpé sur une pizza.\",\n",
    "    \"Une personne jette un chat au plafond.\",\n",
    "    \"Une personne est en train de plier un morceau de papier.\",\n",
    "    \"Un italien prépare le repas avec du fromage\"\n",
    "]\n",
    "\n",
    "# 2. Vectorisation TF-IDF\n",
    "vectorizer = TfidfVectorizer()\n",
    "sparse_matrix = vectorizer.fit_transform(documents)  # Résultat : matrice creuse (csr_matrix)\n",
    "\n",
    "# 3. Réduction de dimension pour éviter une trop grande densité (ex : 50 dim)\n",
    "svd = TruncatedSVD(n_components=17)\n",
    "dense_matrix = svd.fit_transform(sparse_matrix).astype('float32')  # FAISS attend du float32\n",
    "\n",
    "# 4. Création de l’index FAISS\n",
    "dimension = dense_matrix.shape[1]\n",
    "index = faiss.IndexFlatL2(dimension)\n",
    "index.add(dense_matrix)  # Ajoute les vecteurs\n",
    "\n",
    "# 5. Recherche de similarité pour une requête\n",
    "# requete = [\"un chien dort dans le jardin\"]\n",
    "requete = [\"une femme mange le camembert\"]\n",
    "query_tfidf = vectorizer.transform(requete)\n",
    "query_dense = svd.transform(query_tfidf).astype('float32')\n",
    "\n",
    "# 6. Recherche des 3 documents les plus similaires\n",
    "k = len(documents)\n",
    "distances, indices = index.search(query_dense, k)\n",
    "\n",
    "# 7. Affichage des résultats\n",
    "print(\"Requête :\", requete[0])\n",
    "print(\"\\nDocuments les plus similaires :\")\n",
    "for i, idx in enumerate(indices[0]):\n",
    "    print(f\"{i+1}. {documents[idx]} (distance : {distances[0][i]:.4f})\")\n"
   ]
  },
  {
   "cell_type": "code",
   "execution_count": null,
   "id": "d5ecdac6",
   "metadata": {},
   "outputs": [],
   "source": []
  }
 ],
 "metadata": {
  "kernelspec": {
   "display_name": "env_myth",
   "language": "python",
   "name": "python3"
  },
  "language_info": {
   "codemirror_mode": {
    "name": "ipython",
    "version": 3
   },
   "file_extension": ".py",
   "mimetype": "text/x-python",
   "name": "python",
   "nbconvert_exporter": "python",
   "pygments_lexer": "ipython3",
   "version": "3.12.3"
  }
 },
 "nbformat": 4,
 "nbformat_minor": 5
}
