{
 "cells": [
  {
   "cell_type": "markdown",
   "id": "1a6dd5c6",
   "metadata": {},
   "source": [
    "# <center>Test models"
   ]
  },
  {
   "cell_type": "markdown",
   "id": "20e13af9",
   "metadata": {},
   "source": [
    "## Sources"
   ]
  },
  {
   "cell_type": "markdown",
   "id": "460297e1",
   "metadata": {},
   "source": [
    "**Où trouver des modèles GGUF**<br>\n",
    "\n",
    "https://huggingface.co/TheBloke → Très large choix de modèles en .gguf\n",
    "\n",
    "https://gpt4all.io/models/\n",
    "\n",
    "Ou via lmstudio.ai (modèles en un clic)"
   ]
  },
  {
   "cell_type": "markdown",
   "id": "51bb91c1",
   "metadata": {},
   "source": [
    "## GPT4all"
   ]
  },
  {
   "cell_type": "code",
   "execution_count": 6,
   "id": "70926232",
   "metadata": {},
   "outputs": [
    {
     "name": "stdout",
     "output_type": "stream",
     "text": [
      "[00:02:] [00:03:] [00:04:] [00:05:] [00:06:] [00:07:] [00:08:] [00:09:] [00:10:] [00:11:] [00:12:] [00:13:] [00:14:] [00:15:] [00:16:] [00:17:] [00:18:] [00:19:] [00:20:] [00:21:] [00:22:] [00:23:] [00:24:] [00:25:] [00:26:] [00:27:] [00:28:] [00:29:] [00:30:] [00:31:] [00:32:] [00:33:] [00:34:] [00:35:] [00:36:] [00:37:] [00:38:] [00:39:] [00:40:] [00:41:] [00:42:] [00:43:] [00:44:] [00:45:] [00:46:] [00:47:] [00:48:] [00:49:] [00:50:] [00:51:] [00:52:] [00:53:] [00:54:] [00:55:] [00:56:] [00:57:] [00:58:] [00:59:] [01:00:] [01:01:] [01:02:] [01:03:] [01:04:] [01:05:] [01:06:] [01:07:] [01:08:] [01:09:] [01:10:] [01:11:] [01:12:] [01:13:] [01:14:] [01:15:] [01:16:] [01:17:] [01:18:] [01:19:] [01:20:] [01:21:] [01:22:] [01:23:] [01:24:] [01:25:] [01:26:] [01:27:] [01:28:] [01:29:] [01:30:] [01:31:] [01:32:] [01:33:] [01:34:] [01:35:] [01:36:] [01:37:] [01:38:] [01:39:] [01:40:] [01:41:] [01:42:] [01:43:] [01:44:] [01:45:] [01:46:] [01:47:] [01:48:] [01:49:] [01:50:] [01:51:] [01:52:] [01:53:] [01:54:] [01:55:] [01:56:] [01:57:] [01:58:] [01:59:] [02:00:] [02:01:] [02:02:] [02:03:] [02:04:] [02:05:] [02:06:] [02:07:] [02:08:] [02:09:] [02:10:] [02:11:] [02:12:] [02:13:] [02:14:] [02:15:] [02:16:] [02:17:] [02:18:] [02:19:] [02:20:] [02:21:] [02:22:] [02:23:] [02:24:] [02:25:] [02:26:] [02:27:] [02:28:] [02:29:] [02:30:] [02:31:] [02:32:] [02:33:] [02:34:] [02:35:] [02:36:] [02:37:] [02:38:] [02:39:] [02:40:] [02:41:] [02:42:] [02:43:] [02:44:] [02:45:] [02:46:] [02:47:] [02:48:] [02:49:] [02:50:] [02:51:] [02:52\n"
     ]
    }
   ],
   "source": [
    "from gpt4all import GPT4All"
   ]
  },
  {
   "cell_type": "code",
   "execution_count": null,
   "id": "47259de9",
   "metadata": {},
   "outputs": [],
   "source": [
    "model = GPT4All(r\"C:\\Users\\Utilisateur\\Documents\\Models\\claire-7b-0.1.Q4_K_M.gguf\", allow_download=False)\n",
    "\n",
    "with model.chat_session():\n",
    "    print(model.generate(\"Qui est président du Mexique ?\", max_tokens=1024, streaming = True))"
   ]
  },
  {
   "cell_type": "markdown",
   "id": "3a3b7bed",
   "metadata": {},
   "source": [
    "## Transformers"
   ]
  },
  {
   "cell_type": "code",
   "execution_count": null,
   "id": "4c3f43d3",
   "metadata": {},
   "outputs": [],
   "source": [
    "from sentence_transformers import SentenceTransformer\n",
    "from transformers import AutoModel, AutoTokenizer\n",
    "from transformers import CamembertTokenizer\n"
   ]
  },
  {
   "cell_type": "code",
   "execution_count": null,
   "id": "2b7600a3",
   "metadata": {},
   "outputs": [],
   "source": [
    "model_path = r\"C:\\Users\\Utilisateur\\Documents\\mytheque\\Models\\bge-m3\"\n",
    "# model_path = r\"C:/Users/Utilisateur/Documents/mytheque/Models/bge-m3\"\n",
    "\n",
    "tokenizer = AutoTokenizer.from_pretrained(model_path, local_files_only=True)\n",
    "model = AutoModel.from_pretrained(model_path, local_files_only=True)\n",
    "\n",
    "inputs = tokenizer(\"Texte à encoder\", return_tensors=\"pt\", padding=True, truncation=True)\n",
    "outputs = model(**inputs)\n",
    "\n",
    "# Embedding = moyenne des vecteurs cachés\n",
    "embedding = outputs.last_hidden_state.mean(dim=1)\n",
    "print(embedding.shape)"
   ]
  },
  {
   "cell_type": "markdown",
   "id": "e2330132",
   "metadata": {},
   "source": [
    "**Pour télécharger les fichiers**"
   ]
  },
  {
   "cell_type": "code",
   "execution_count": null,
   "id": "74af3b97",
   "metadata": {},
   "outputs": [
    {
     "name": "stderr",
     "output_type": "stream",
     "text": [
      "Fetching 18 files:   0%|          | 0/18 [00:00<?, ?it/s]c:\\Users\\Utilisateur\\Documents\\mytheque\\env_myth\\Lib\\site-packages\\huggingface_hub\\file_download.py:980: UserWarning: `local_dir_use_symlinks` parameter is deprecated and will be ignored. The process to download files to a local folder has been updated and do not rely on symlinks anymore. You only need to pass a destination folder as`local_dir`.\n",
      "For more details, check out https://huggingface.co/docs/huggingface_hub/main/en/guides/download#download-files-to-local-folder.\n",
      "  warnings.warn(\n",
      "Fetching 18 files: 100%|██████████| 18/18 [10:43<00:00, 35.73s/it]\n"
     ]
    },
    {
     "data": {
      "text/plain": [
       "'C:\\\\Users\\\\Utilisateur\\\\Documents\\\\mytheque\\\\Models'"
      ]
     },
     "execution_count": 21,
     "metadata": {},
     "output_type": "execute_result"
    }
   ],
   "source": [
    "from huggingface_hub import snapshot_download\n",
    "model_id=\"lajavaness/sentence-camembert-large\"\n",
    "\n",
    "# Telechargement du modèle en local\n",
    "snapshot_download(repo_id=model_id, local_dir=r\"C:\\Users\\Utilisateur\\Documents\\mytheque\\Models\\sentence-camembert-large\",\n",
    "                  local_dir_use_symlinks=False, revision=\"main\")"
   ]
  },
  {
   "cell_type": "code",
   "execution_count": null,
   "id": "2ad1a3f5",
   "metadata": {},
   "outputs": [
    {
     "data": {
      "text/plain": [
       "array([ 0.29252246,  0.02982062, -0.10471618, ...,  0.22709577,\n",
       "        0.05306111, -0.58324724], shape=(1024,), dtype=float32)"
      ]
     },
     "execution_count": 47,
     "metadata": {},
     "output_type": "execute_result"
    }
   ],
   "source": [
    "# model = CamembertTokenizer(r\"C:\\Users\\Utilisateur\\Documents\\mytheque\\Models\\sentence-camembert-large\", local_files_only=True)\n",
    "# model = tokenizer(r\"C:\\Users\\Utilisateur\\Documents\\mytheque\\Models\\sentence-camembert-large\", local_files_only=True)\n",
    "\n",
    "model = SentenceTransformer(r\"C:\\Users\\Utilisateur\\Documents\\mytheque\\Models\\sentence-camembert-large\", local_files_only=True)\n",
    "model.encode(\"Hello\")"
   ]
  },
  {
   "cell_type": "code",
   "execution_count": 9,
   "id": "aa48244a",
   "metadata": {},
   "outputs": [
    {
     "data": {
      "text/plain": [
       "array([[ 0.11892722,  0.46865812, -0.62379724, ...,  0.46460527,\n",
       "         0.2039351 ,  0.07192303],\n",
       "       [-0.37721995,  0.24875322,  0.1830102 , ...,  0.35383818,\n",
       "         0.11625216,  0.09876025],\n",
       "       [-0.16000931, -0.01209719,  0.03265126, ..., -0.05747368,\n",
       "        -0.41359037,  0.15602526],\n",
       "       [ 0.23739465, -0.5312759 ,  0.1390972 , ..., -0.46047148,\n",
       "         0.14653896, -0.5297922 ],\n",
       "       [ 0.32796627,  0.0279403 , -0.3251529 , ...,  0.6037205 ,\n",
       "        -0.01314403,  0.16631809]], shape=(5, 1024), dtype=float32)"
      ]
     },
     "execution_count": 9,
     "metadata": {},
     "output_type": "execute_result"
    }
   ],
   "source": [
    "sentences = [\"Un avion est en train de décoller.\",\n",
    "          \"Un homme joue d'une grande flûte.\",\n",
    "          \"Un homme étale du fromage râpé sur une pizza.\",\n",
    "          \"Une personne jette un chat au plafond.\",\n",
    "          \"Une personne est en train de plier un morceau de papier.\",\n",
    "          ]\n",
    "\n",
    "embeddings = model.encode(sentences)\n",
    "embeddings"
   ]
  },
  {
   "cell_type": "code",
   "execution_count": null,
   "id": "9c44d641",
   "metadata": {},
   "outputs": [],
   "source": [
    "import pandas as pd\n",
    "data = pd.read_csv('GPT_PDF_to_text_And_Search_Engine.txt', sep=\"$$$$\")\n",
    "data['GPT'].values"
   ]
  },
  {
   "cell_type": "code",
   "execution_count": 9,
   "id": "8816078a",
   "metadata": {},
   "outputs": [
    {
     "ename": "NameError",
     "evalue": "name 'model' is not defined",
     "output_type": "error",
     "traceback": [
      "\u001b[31m---------------------------------------------------------------------------\u001b[39m",
      "\u001b[31mNameError\u001b[39m                                 Traceback (most recent call last)",
      "\u001b[36mCell\u001b[39m\u001b[36m \u001b[39m\u001b[32mIn[9]\u001b[39m\u001b[32m, line 75\u001b[39m\n\u001b[32m      1\u001b[39m text = \u001b[33m\"\"\"\u001b[39m\u001b[33mTexte 4 : Victor Hugo, Discours sur la misère, prononcé à l\u001b[39m\u001b[33m'\u001b[39m\u001b[33mAssemblée le 9 juillet 1849\u001b[39m\n\u001b[32m      2\u001b[39m \u001b[33m Eh bien, messieurs, je dis que ce sont là des choses qui ne doivent pas être ; je dis que la société doit\u001b[39m\n\u001b[32m      3\u001b[39m \u001b[33mdépenser toute sa force, toute sa sollicitude, toute son intelligence, toute sa volonté, pour que de telles choses ne\u001b[39m\n\u001b[32m   (...)\u001b[39m\u001b[32m     72\u001b[39m \u001b[33mles abîmes, mais c\u001b[39m\u001b[33m'\u001b[39m\u001b[33mest la misère qui les creuse. (C\u001b[39m\u001b[33m'\u001b[39m\u001b[33mest vrai ! c\u001b[39m\u001b[33m'\u001b[39m\u001b[33mest vrai !) Vous avez fait des lois contre l\u001b[39m\u001b[33m'\u001b[39m\u001b[33manarchie,\u001b[39m\n\u001b[32m     73\u001b[39m \u001b[33mfaites maintenant des lois contre la misère !\u001b[39m\u001b[33m\"\"\"\u001b[39m\n\u001b[32m---> \u001b[39m\u001b[32m75\u001b[39m embeddings = \u001b[43mmodel\u001b[49m.encode(sentences)\n\u001b[32m     76\u001b[39m embeddings\n",
      "\u001b[31mNameError\u001b[39m: name 'model' is not defined"
     ]
    }
   ],
   "source": [
    "text = \"\"\"Texte 4 : Victor Hugo, Discours sur la misère, prononcé à l'Assemblée le 9 juillet 1849\n",
    " Eh bien, messieurs, je dis que ce sont là des choses qui ne doivent pas être ; je dis que la société doit\n",
    "dépenser toute sa force, toute sa sollicitude, toute son intelligence, toute sa volonté, pour que de telles choses ne\n",
    "soient pas ! Je dis que de tels faits, dans un pays civilisé, engagent la conscience de la société tout entière ; que\n",
    "je m'en sens, moi, qui parle, complice et solidaire (Mouvement), et que de tels faits ne sont pas seulement des\n",
    "torts envers l'homme, que ce sont des crimes envers Dieu ! (Sensation prolongée.)\n",
    " Voilà pourquoi je suis pénétré, voilà pourquoi je voudrais pénétrer tous ceux qui m'écoutent de la haute\n",
    "importance de la proposition qui vous est soumise. Ce n'est qu'un premier pas, mais il est décisif. Je voudrais\n",
    "que cette assemblée, majorité et minorité, n'importe, je ne connais pas, moi, de majorité et de minorité en de\n",
    "telles questions ; je voudrais que cette assemblée n'eût qu'une seule âme pour marcher à ce grand but\n",
    "magnifique, à ce but sublime, l'abolition de la misère ! \n",
    "Vous n'avez rien fait, j'insiste sur ce point, tant que l'ordre matériel raffermi n'a point pour base l'ordre moral\n",
    "consolidé ! (Très-bien ! très-bien ! – Vive et unanime adhésion.) Vous n'avez rien fait tant que le peuple souffre !\n",
    "(Bravos à gauche.) Vous n'avez rien fait tant qu'il y a au-dessous de vous une partie du peuple qui désespère !\n",
    "Vous n'avez rien fait, tant que ceux qui sont dans la force de l'âge et qui travaillent peuvent être sans pain ! tant\n",
    "que ceux qui sont vieux et qui ont travaillé peuvent être sans asile ! tant que l'usure dévore nos campagnes, tant\n",
    "qu'on meurt de faim dans nos villes (Mouvement prolongé), tant qu'il n'y a pas des lois fraternelles, des lois\n",
    "évangéliques qui viennent de toutes parts en aide aux pauvres familles honnêtes, aux bons paysans, aux bons\n",
    "ouvriers, aux gens de cœur ! (Acclamation.) Vous n'avez rien fait, tant que l'esprit de révolution a pour auxiliaire\n",
    "la souffrance publique ! vous n'avez rien fait, rien fait, tant que dans cette œuvre de destruction et de ténèbres,\n",
    "qui se continue souterrainement, l'homme méchant a pour collaborateur fatal l'homme malheureux. !\n",
    "Vous le voyez, messieurs, je le répète en terminant, ce n'est pas seulement à votre générosité que je\n",
    "m'adresse, c'est à votre sagesse, et je vous conjure d'y réfléchir. Messieurs, songez-y, c'est l'anarchie qui ouvre\n",
    "les abîmes, mais c'est la misère qui les creuse. (C'est vrai ! c'est vrai !) Vous avez fait des lois contre l'anarchie,\n",
    "faites maintenant des lois contre la misère !\n",
    "Eh bien, messieurs, je dis que ce sont là des choses qui ne doivent pas être ; je dis que la société doit\n",
    "dépenser toute sa force, toute sa sollicitude, toute son intelligence, toute sa volonté, pour que de telles choses ne\n",
    "soient pas ! Je dis que de tels faits, dans un pays civilisé, engagent la conscience de la société tout entière ; que\n",
    "je m'en sens, moi, qui parle, complice et solidaire (Mouvement), et que de tels faits ne sont pas seulement des\n",
    "torts envers l'homme, que ce sont des crimes envers Dieu ! (Sensation prolongée.)\n",
    " Voilà pourquoi je suis pénétré, voilà pourquoi je voudrais pénétrer tous ceux qui m'écoutent de la haute\n",
    "importance de la proposition qui vous est soumise. Ce n'est qu'un premier pas, mais il est décisif. Je voudrais\n",
    "que cette assemblée, majorité et minorité, n'importe, je ne connais pas, moi, de majorité et de minorité en de\n",
    "telles questions ; je voudrais que cette assemblée n'eût qu'une seule âme pour marcher à ce grand but\n",
    "magnifique, à ce but sublime, l'abolition de la misère !\n",
    "Vous n'avez rien fait, j'insiste sur ce point, tant que l'ordre matériel raffermi n'a point pour base l'ordre moral\n",
    "consolidé ! (Très-bien ! très-bien ! – Vive et unanime adhésion.) Vous n'avez rien fait tant que le peuple souffre !\n",
    "(Bravos à gauche.) Vous n'avez rien fait tant qu'il y a au-dessous de vous une partie du peuple qui désespère !\n",
    "Vous n'avez rien fait, tant que ceux qui sont dans la force de l'âge et qui travaillent peuvent être sans pain ! tant\n",
    "que ceux qui sont vieux et qui ont travaillé peuvent être sans asile ! tant que l'usure dévore nos campagnes, tant\n",
    "qu'on meurt de faim dans nos villes (Mouvement prolongé), tant qu'il n'y a pas des lois fraternelles, des lois\n",
    "évangéliques qui viennent de toutes parts en aide aux pauvres familles honnêtes, aux bons paysans, aux bons\n",
    "ouvriers, aux gens de cœur ! (Acclamation.) Vous n'avez rien fait, tant que l'esprit de révolution a pour auxiliaire\n",
    "la souffrance publique ! vous n'avez rien fait, rien fait, tant que dans cette œuvre de destruction et de ténèbres,\n",
    "qui se continue souterrainement, l'homme méchant a pour collaborateur fatal l'homme malheureux\n",
    "Vous le voyez, messieurs, je le répète en terminant, ce n'est pas seulement à votre générosité que je\n",
    "m'adresse, c'est à votre sagesse, et je vous conjure d'y réfléchir. Messieurs, songez-y, c'est l'anarchie qui ouvre\n",
    "les abîmes, mais c'est la misère qui les creuse. (C'est vrai ! c'est vrai !) Vous avez fait des lois contre l'anarchie,\n",
    "faites maintenant des lois contre la misère !\n",
    "Eh bien, messieurs, je dis que ce sont là des choses qui ne doivent pas être ; je dis que la société doit\n",
    "dépenser toute sa force, toute sa sollicitude, toute son intelligence, toute sa volonté, pour que de telles choses ne\n",
    "soient pas ! Je dis que de tels faits, dans un pays civilisé, engagent la conscience de la société tout entière ; que\n",
    "je m'en sens, moi, qui parle, complice et solidaire (Mouvement), et que de tels faits ne sont pas seulement des\n",
    "torts envers l'homme, que ce sont des crimes envers Dieu ! (Sensation prolongée.)\n",
    " Voilà pourquoi je suis pénétré, voilà pourquoi je voudrais pénétrer tous ceux qui m'écoutent de la haute\n",
    "importance de la proposition qui vous est soumise. Ce n'est qu'un premier pas, mais il est décisif. Je voudrais\n",
    "que cette assemblée, majorité et minorité, n'importe, je ne connais pas, moi, de majorité et de minorité en de\n",
    "telles questions ; je voudrais que cette assemblée n'eût qu'une seule âme pour marcher à ce grand but\n",
    "magnifique, à ce but sublime, l'abolition de la misère !\n",
    "Vous n'avez rien fait, j'insiste sur ce point, tant que l'ordre matériel raffermi n'a point pour base l'ordre moral\n",
    "consolidé ! (Très-bien ! très-bien ! – Vive et unanime adhésion.) Vous n'avez rien fait tant que le peuple souffre !\n",
    "(Bravos à gauche.) Vous n'avez rien fait tant qu'il y a au-dessous de vous une partie du peuple qui désespère !\n",
    "Vous n'avez rien fait, tant que ceux qui sont dans la force de l'âge et qui travaillent peuvent être sans pain ! tant\n",
    "que ceux qui sont vieux et qui ont travaillé peuvent être sans asile ! tant que l'usure dévore nos campagnes, tant\n",
    "qu'on meurt de faim dans nos villes (Mouvement prolongé), tant qu'il n'y a pas des lois fraternelles, des lois\n",
    "évangéliques qui viennent de toutes parts en aide aux pauvres familles honnêtes, aux bons paysans, aux bons\n",
    "ouvriers, aux gens de cœur ! (Acclamation.) Vous n'avez rien fait, tant que l'esprit de révolution a pour auxiliaire\n",
    "la souffrance publique ! vous n'avez rien fait, rien fait, tant que dans cette œuvre de destruction et de ténèbres,\n",
    "qui se continue souterrainement, l'homme méchant a pour collaborateur fatal l'homme malheureux. !\n",
    "Vous le voyez, messieurs, je le répète en terminant, ce n'est pas seulement à votre générosité que je\n",
    "m'adresse, c'est à votre sagesse, et je vous conjure d'y réfléchir. Messieurs, songez-y, c'est l'anarchie qui ouvre\n",
    "les abîmes, mais c'est la misère qui les creuse. (C'est vrai ! c'est vrai !) Vous avez fait des lois contre l'anarchie,\n",
    "faites maintenant des lois contre la misère !\"\"\"\n",
    "\n",
    "embeddings = model.encode(sentences)\n",
    "embeddings"
   ]
  },
  {
   "cell_type": "code",
   "execution_count": 48,
   "id": "10afa447",
   "metadata": {},
   "outputs": [
    {
     "name": "stdout",
     "output_type": "stream",
     "text": [
      "torch.Size([4, 4])\n",
      "le docteur est absent\n",
      " - l'infirmière est malade       : 0.4649\n",
      " - Ils sont tous fous dans cet asile: 0.1338\n",
      " - Ce sont des crimes envers dieu.: 0.0808\n",
      " - cette œuvre de destruction et de ténèbres: 0.0669\n",
      "la destruction est à venir\n",
      " - l'infirmière est malade       : 0.0057\n",
      " - Ils sont tous fous dans cet asile: -0.0319\n",
      " - Ce sont des crimes envers dieu.: 0.2774\n",
      " - cette œuvre de destruction et de ténèbres: 0.6803\n",
      "pas de crimes ici !\n",
      " - l'infirmière est malade       : 0.1446\n",
      " - Ils sont tous fous dans cet asile: 0.1202\n",
      " - Ce sont des crimes envers dieu.: 0.2018\n",
      " - cette œuvre de destruction et de ténèbres: 0.0763\n",
      "il n'y a pas de fous dans cet asile.\n",
      " - l'infirmière est malade       : 0.2419\n",
      " - Ils sont tous fous dans cet asile: 0.6141\n",
      " - Ce sont des crimes envers dieu.: -0.0323\n",
      " - cette œuvre de destruction et de ténèbres: -0.0318\n"
     ]
    }
   ],
   "source": [
    "sentences1 = [\n",
    "    \"le docteur est absent\",\n",
    "    \"la destruction est à venir\",\n",
    "    \"pas de crimes ici !\",\n",
    "    \"il n'y a pas de fous dans cet asile.\"\n",
    "]\n",
    "\n",
    "sentences2 = [\n",
    "    \"l'infirmière est malade\",\n",
    "    \"Ils sont tous fous dans cet asile\",\n",
    "    \"Ce sont des crimes envers dieu.\",\n",
    "    \"cette œuvre de destruction et de ténèbres\"\n",
    "]\n",
    "embeddings1 = model.encode(sentences1)\n",
    "embeddings2 = model.encode(sentences2)\n",
    "\n",
    "similarities = model.similarity(embeddings1, embeddings2)\n",
    "print(similarities.shape)\n",
    "\n",
    "# Output the pairs with their score\n",
    "for idx_i, sentence1 in enumerate(sentences1):\n",
    "    print(sentence1)\n",
    "    for idx_j, sentence2 in enumerate(sentences2):\n",
    "        print(f\" - {sentence2: <30}: {similarities[idx_i][idx_j]:.4f}\")"
   ]
  },
  {
   "cell_type": "code",
   "execution_count": 51,
   "id": "6166228e",
   "metadata": {},
   "outputs": [
    {
     "name": "stdout",
     "output_type": "stream",
     "text": [
      "The new movie is awesome\n",
      " - The dog plays in the garden   : 0.0640\n",
      " - The new movie is so great     : 0.9514\n",
      " - A woman watches TV            : 0.1207\n",
      " - Le chat joue dans le jardin   : 0.0293\n",
      "The cat sits outside\n",
      " - The dog plays in the garden   : 0.2879\n",
      " - The new movie is so great     : -0.0398\n",
      " - A woman watches TV            : 0.0259\n",
      " - Le chat joue dans le jardin   : 0.3234\n",
      "A man is playing guitar\n",
      " - The dog plays in the garden   : 0.0384\n",
      " - The new movie is so great     : 0.1150\n",
      " - A woman watches TV            : -0.0481\n",
      " - Le chat joue dans le jardin   : 0.0531\n",
      "Le chat joue à la balle\n",
      " - The dog plays in the garden   : 0.3305\n",
      " - The new movie is so great     : -0.0029\n",
      " - A woman watches TV            : 0.0413\n",
      " - Le chat joue dans le jardin   : 0.6957\n",
      "Je n'aime pas les chats qui jouent dans le jardin\n",
      " - The dog plays in the garden   : 0.3582\n",
      " - The new movie is so great     : 0.0166\n",
      " - A woman watches TV            : -0.0074\n",
      " - Le chat joue dans le jardin   : 0.6652\n"
     ]
    }
   ],
   "source": [
    "# Two lists of sentences\n",
    "sentences1 = [\n",
    "    \"The new movie is awesome\",\n",
    "    \"The cat sits outside\",\n",
    "    \"A man is playing guitar\",\n",
    "    \"Le chat joue à la balle\",\n",
    "    \"Je n'aime pas les chats qui jouent dans le jardin\",\n",
    "]\n",
    "\n",
    "sentences2 = [\n",
    "    \"The dog plays in the garden\",\n",
    "    \"The new movie is so great\",\n",
    "    \"A woman watches TV\",\n",
    "    \"Le chat joue dans le jardin\"\n",
    "]\n",
    "\n",
    "# Compute embeddings for both lists\n",
    "embeddings1 = model.encode(sentences1)\n",
    "embeddings2 = model.encode(sentences2)\n",
    "\n",
    "# Compute cosine similarities\n",
    "similarities = model.similarity(embeddings1, embeddings2)\n",
    "\n",
    "# Output the pairs with their score\n",
    "for idx_i, sentence1 in enumerate(sentences1):\n",
    "    print(sentence1)\n",
    "    for idx_j, sentence2 in enumerate(sentences2):\n",
    "        print(f\" - {sentence2: <30}: {similarities[idx_i][idx_j]:.4f}\")"
   ]
  },
  {
   "cell_type": "code",
   "execution_count": 6,
   "id": "c1035336",
   "metadata": {},
   "outputs": [],
   "source": [
    "from keybert import KeyBERT\n",
    "# kw_model = keyBERT(model = r\"C:\\Users\\Utilisateur\\Documents\\mytheque\\Models\\sentence-camembert-large\", local_files_only=True)\n"
   ]
  },
  {
   "cell_type": "code",
   "execution_count": 8,
   "id": "67f7179e",
   "metadata": {},
   "outputs": [],
   "source": [
    "sentence_model = SentenceTransformer(r\"C:\\Users\\Utilisateur\\Documents\\mytheque\\Models\\sentence-camembert-large\", local_files_only=True)\n",
    "kw_model = KeyBERT(model = sentence_model)"
   ]
  },
  {
   "cell_type": "code",
   "execution_count": 21,
   "id": "4e43196d",
   "metadata": {},
   "outputs": [
    {
     "data": {
      "text/plain": [
       "[('contre la misère', 0.5463),\n",
       " ('lois contre la misère', 0.5316),\n",
       " ('des lois contre la misère', 0.516),\n",
       " ('mais est la misère qui', 0.5029),\n",
       " ('mais est la misère', 0.4979),\n",
       " ('la misère qui', 0.4866),\n",
       " ('la misère qui les creuse', 0.486),\n",
       " ('tant que le peuple souffre', 0.485),\n",
       " ('la misère qui les', 0.4807),\n",
       " ('misère qui les creuse', 0.4754),\n",
       " ('misère qui', 0.4676),\n",
       " ('est la misère', 0.4659),\n",
       " ('la misère', 0.4618),\n",
       " ('misère qui les creuse est', 0.4614),\n",
       " ('misère qui les', 0.4594),\n",
       " ('est la misère qui les', 0.4593),\n",
       " ('abîmes mais est la misère', 0.4558),\n",
       " ('en aide aux pauvres', 0.4548),\n",
       " ('aux pauvres', 0.4515),\n",
       " ('parts en aide aux pauvres', 0.4487)]"
      ]
     },
     "execution_count": 21,
     "metadata": {},
     "output_type": "execute_result"
    }
   ],
   "source": [
    "text = \"\"\"\n",
    "Vous n'avez rien fait, j'insiste sur ce point, tant que l'ordre matériel raffermi n'a point pour base l'ordre moral\n",
    "consolidé ! (Très-bien ! très-bien ! – Vive et unanime adhésion.) Vous n'avez rien fait tant que le peuple souffre !\n",
    "(Bravos à gauche.) Vous n'avez rien fait tant qu'il y a au-dessous de vous une partie du peuple qui désespère !\n",
    "Vous n'avez rien fait, tant que ceux qui sont dans la force de l'âge et qui travaillent peuvent être sans pain ! tant\n",
    "que ceux qui sont vieux et qui ont travaillé peuvent être sans asile ! tant que l'usure dévore nos campagnes, tant\n",
    "qu'on meurt de faim dans nos villes (Mouvement prolongé), tant qu'il n'y a pas des lois fraternelles, des lois\n",
    "évangéliques qui viennent de toutes parts en aide aux pauvres familles honnêtes, aux bons paysans, aux bons\n",
    "ouvriers, aux gens de cœur ! (Acclamation.) Vous n'avez rien fait, tant que l'esprit de révolution a pour auxiliaire\n",
    "la souffrance publique ! vous n'avez rien fait, rien fait, tant que dans cette œuvre de destruction et de ténèbres,\n",
    "qui se continue souterrainement, l'homme méchant a pour collaborateur fatal l'homme malheureux. !\n",
    "Vous le voyez, messieurs, je le répète en terminant, ce n'est pas seulement à votre générosité que je\n",
    "m'adresse, c'est à votre sagesse, et je vous conjure d'y réfléchir. Messieurs, songez-y, c'est l'anarchie qui ouvre\n",
    "les abîmes, mais c'est la misère qui les creuse. (C'est vrai ! c'est vrai !) Vous avez fait des lois contre l'anarchie,\n",
    "faites maintenant des lois contre la misère !\"\"\"\n",
    "\n",
    "test = kw_model.extract_keywords(text, top_n = 20, keyphrase_ngram_range=(1, 5))\n",
    "test"
   ]
  },
  {
   "cell_type": "markdown",
   "id": "77862254",
   "metadata": {},
   "source": [
    "**Via les modèles de Kaggle (y compris les modèles perso)**"
   ]
  },
  {
   "cell_type": "code",
   "execution_count": null,
   "id": "ae573fd9",
   "metadata": {},
   "outputs": [],
   "source": [
    "import Kagglehub\n",
    "\n",
    "# Download latest version\n",
    "path = kagglehub.model_download(\"francklefur/sentence-camembert-large/transformers/camembert-large\")\n",
    "\n",
    "print(\"Path to model files:\", path)"
   ]
  },
  {
   "cell_type": "markdown",
   "id": "a92e44c0",
   "metadata": {},
   "source": [
    "## Llama_cpp"
   ]
  },
  {
   "cell_type": "code",
   "execution_count": null,
   "id": "08caada4",
   "metadata": {},
   "outputs": [],
   "source": [
    "# Difficile à installer\n",
    "from llama_cpp import Llama"
   ]
  },
  {
   "cell_type": "code",
   "execution_count": null,
   "id": "64d92ce8",
   "metadata": {},
   "outputs": [],
   "source": [
    "Llama.from\n",
    "llm = Llama.from_pretrained(\n",
    "\trepo_id=\"croissantllm/CroissantLLMBase-GGUF\",\n",
    "\tfilename=\"croissantllmbase.Q8_0.gguf\",\n",
    ")"
   ]
  },
  {
   "cell_type": "markdown",
   "id": "e1f76d26",
   "metadata": {},
   "source": []
  }
 ],
 "metadata": {
  "kernelspec": {
   "display_name": "env_myth",
   "language": "python",
   "name": "python3"
  },
  "language_info": {
   "codemirror_mode": {
    "name": "ipython",
    "version": 3
   },
   "file_extension": ".py",
   "mimetype": "text/x-python",
   "name": "python",
   "nbconvert_exporter": "python",
   "pygments_lexer": "ipython3",
   "version": "3.12.3"
  }
 },
 "nbformat": 4,
 "nbformat_minor": 5
}
